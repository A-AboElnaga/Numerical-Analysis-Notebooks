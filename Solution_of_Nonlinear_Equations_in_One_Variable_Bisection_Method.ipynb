{
  "cells": [
    {
      "cell_type": "markdown",
      "id": "heard-quick",
      "metadata": {
        "id": "heard-quick"
      },
      "source": [
        "Before you turn this problem in, make sure everything runs as expected. First, **restart the kernel** (in the menubar, select Kernel$\\rightarrow$Restart) and then **run all cells** (in the menubar, select Cell$\\rightarrow$Run All).\n",
        "\n",
        "Make sure you fill in any place that says `YOUR CODE HERE` or \"YOUR ANSWER HERE\", as well as your name and collaborators below:"
      ]
    },
    {
      "cell_type": "code",
      "execution_count": null,
      "id": "proprietary-mistress",
      "metadata": {
        "id": "proprietary-mistress"
      },
      "outputs": [],
      "source": [
        "NAME = \"Ahmad Mongy Saad\"\n",
        "ID   = \"120200033\"\n",
        "Section = \"CSE01\""
      ]
    },
    {
      "cell_type": "markdown",
      "id": "spatial-cholesterol",
      "metadata": {
        "id": "spatial-cholesterol"
      },
      "source": [
        "---"
      ]
    },
    {
      "cell_type": "markdown",
      "id": "mental-camera",
      "metadata": {
        "deletable": false,
        "editable": false,
        "nbgrader": {
          "cell_type": "markdown",
          "checksum": "84e55ec58420dc7ba922289f2bb56f99",
          "grade": false,
          "grade_id": "cell-4ecee31e828f10b5",
          "locked": true,
          "schema_version": 3,
          "solution": false,
          "task": false
        },
        "id": "mental-camera"
      },
      "source": [
        "# CSE 213 Numerical Analysis\n",
        "# Lab 2 - Solution of Nonlinear Equations in One Variable - Bisection Method"
      ]
    },
    {
      "cell_type": "markdown",
      "id": "operational-procedure",
      "metadata": {
        "deletable": false,
        "editable": false,
        "nbgrader": {
          "cell_type": "markdown",
          "checksum": "57c9054909dee247e805ab55582896bd",
          "grade": false,
          "grade_id": "cell-fca4b7bb2d5efb52",
          "locked": true,
          "schema_version": 3,
          "solution": false,
          "task": false
        },
        "id": "operational-procedure"
      },
      "source": [
        "It is required to solve the equation:\n",
        "$ x - \\cos(x)-1 = 0$\n",
        ", using the bisection method in Python.\n",
        "\n",
        "Start with the interval $[0, \\pi/2]$ and obtain the solution with an error $\\epsilon$ less than $10^{-5}$, where $\\epsilon = |b_n - a_n|/2$ and $|p_n - p| \\leq \\epsilon$."
      ]
    },
    {
      "cell_type": "markdown",
      "id": "affected-lancaster",
      "metadata": {
        "deletable": false,
        "editable": false,
        "nbgrader": {
          "cell_type": "markdown",
          "checksum": "33224d84be41c8f85bcdd9cf1723d684",
          "grade": false,
          "grade_id": "cell-ad043fa633d2fe04",
          "locked": true,
          "schema_version": 3,
          "solution": false,
          "task": false
        },
        "id": "affected-lancaster"
      },
      "source": [
        "### The Bisection Algorithm\n",
        "\n",
        "Given a function `eq` which we want to solve, the interval `[a,b]` in which the solution exists and a tolerance `tol` which our algorithm should stop when the error is smaller than it, the Bisection Algorithm follows the following pseudocode:\n",
        "``` python\n",
        "fa = eq(a)\n",
        "fb = eq(b)\n",
        "while | a - b | / 2 > tol\n",
        "    solution = (a + b) / 2\n",
        "    f_solution = eq(solution)\n",
        "    if fa * f_solution <= 0\n",
        "        b = solution\n",
        "    else\n",
        "        a = solution\n",
        "```"
      ]
    },
    {
      "cell_type": "markdown",
      "id": "empirical-event",
      "metadata": {
        "deletable": false,
        "editable": false,
        "nbgrader": {
          "cell_type": "markdown",
          "checksum": "f1437252130011ce81d5e136fe1bd4c3",
          "grade": false,
          "grade_id": "cell-132b51c406adf9cb",
          "locked": true,
          "schema_version": 3,
          "solution": false,
          "task": false
        },
        "id": "empirical-event"
      },
      "source": [
        "### Define a function `eq1` for the given equation"
      ]
    },
    {
      "cell_type": "code",
      "execution_count": null,
      "id": "permanent-carry",
      "metadata": {
        "deletable": false,
        "nbgrader": {
          "cell_type": "code",
          "checksum": "7c8c7c121f901283c01df62128f517b2",
          "grade": false,
          "grade_id": "cell-f846c398e2fbc193",
          "locked": false,
          "schema_version": 3,
          "solution": true,
          "task": false
        },
        "id": "permanent-carry"
      },
      "outputs": [],
      "source": [
        "import numpy as np\n",
        "def eq1(x):\n",
        "    return(x-np.cos(x)-1)\n",
        "    raise NotImplementedError()"
      ]
    },
    {
      "cell_type": "code",
      "execution_count": null,
      "id": "corrected-shooting",
      "metadata": {
        "deletable": false,
        "editable": false,
        "nbgrader": {
          "cell_type": "code",
          "checksum": "484021eda1a20a5b731e3acc1c55216e",
          "grade": true,
          "grade_id": "cell-41bacb8460c11012",
          "locked": true,
          "points": 1,
          "schema_version": 3,
          "solution": false,
          "task": false
        },
        "id": "corrected-shooting"
      },
      "outputs": [],
      "source": [
        "### BEGIN TEST\n",
        "x = np.array([0, 1, 2])\n",
        "assert np.all(np.isclose(eq1(x), np.array([-2.0, -0.5403023058681398, 1.4161468365471426])))\n",
        "### END TEST"
      ]
    },
    {
      "cell_type": "markdown",
      "id": "favorite-bailey",
      "metadata": {
        "deletable": false,
        "editable": false,
        "nbgrader": {
          "cell_type": "markdown",
          "checksum": "faa895e071a5f7b9675cf771802cb4b2",
          "grade": false,
          "grade_id": "cell-923cce371b3435df",
          "locked": true,
          "schema_version": 3,
          "solution": false,
          "task": false
        },
        "id": "favorite-bailey"
      },
      "source": [
        "### Implement the bisection function to solve the equation `eq1` using the bisection method."
      ]
    },
    {
      "cell_type": "code",
      "execution_count": null,
      "id": "enclosed-mississippi",
      "metadata": {
        "deletable": false,
        "nbgrader": {
          "cell_type": "code",
          "checksum": "c1acea622d75630e4ff602b4512d5fa6",
          "grade": false,
          "grade_id": "cell-e0b8ed6055b9a40b",
          "locked": false,
          "schema_version": 3,
          "solution": true,
          "task": false
        },
        "id": "enclosed-mississippi"
      },
      "outputs": [],
      "source": [
        "def bisection(equation, a=0, b=np.pi/2, tolerance=1e-5):\n",
        "    \"\"\"\n",
        "    equation (function): a function that we want to solve\n",
        "    a (float): the starting point of the solution interval\n",
        "    b (float): the end point of the solution interval\n",
        "    tolerance (float): the value after which we stop iterating\n",
        "    \"\"\"\n",
        "    fa=equation(a)\n",
        "    fb=equation(b)\n",
        "    while abs(a-b)/2 > tolerance:\n",
        "      solution = (a+b)/2\n",
        "      f_solution = equation(solution)\n",
        "      if fa*f_solution <=0 :\n",
        "        b =solution\n",
        "      else:\n",
        "        a=solution\n",
        "    return((a+b)/2)\n",
        "    # YOUR CODE HERE\n",
        "    raise NotImplementedError()"
      ]
    },
    {
      "cell_type": "code",
      "execution_count": null,
      "id": "western-ghost",
      "metadata": {
        "deletable": false,
        "editable": false,
        "nbgrader": {
          "cell_type": "code",
          "checksum": "525403a865b0677c3ae07b09c73fd5bc",
          "grade": true,
          "grade_id": "cell-f7a4c92dbd28f1f6",
          "locked": true,
          "points": 5,
          "schema_version": 3,
          "solution": false,
          "task": false
        },
        "id": "western-ghost",
        "outputId": "0d88baa0-161a-43b4-c073-7ba3b0907a8f",
        "colab": {
          "base_uri": "https://localhost:8080/",
          "height": 388
        }
      },
      "outputs": [
        {
          "output_type": "display_data",
          "data": {
            "text/plain": [
              "<Figure size 576x432 with 1 Axes>"
            ],
            "image/png": "[encoded data removed]"
          },
          "metadata": {
            "needs_background": "light"
          }
        }
      ],
      "source": [
        "### BEGIN TEST\n",
        "from matplotlib import pyplot as plt\n",
        "p = bisection(eq1, 0, np.pi/2, 1e-5)\n",
        "assert p == 1.283432589901804\n",
        "plt.figure(figsize=(8,6))\n",
        "plt.grid()\n",
        "plt.xlabel('X-axis')\n",
        "plt.ylabel('Y-axis')\n",
        "plt.axhline(y=0, color='k')\n",
        "plt.axvline(x=p, color='m', linestyle='--')\n",
        "x = np.linspace(0, np.pi/2, 50)\n",
        "y = eq1(x)\n",
        "plt.plot(x, y, 'r')\n",
        "plt.show()\n",
        "### END TEST"
      ]
    },
    {
      "cell_type": "markdown",
      "id": "judicial-piece",
      "metadata": {
        "deletable": false,
        "editable": false,
        "nbgrader": {
          "cell_type": "markdown",
          "checksum": "69d98792dd18d9fb896476adeb9d9c44",
          "grade": false,
          "grade_id": "cell-5200b326a0922436",
          "locked": true,
          "schema_version": 3,
          "solution": false,
          "task": false
        },
        "id": "judicial-piece"
      },
      "source": [
        "Modify the `bisection` function to print the results as in the following table.\n",
        "```\n",
        "+-----+--------------------+--------------------+--------------------+------+--------------------+\n",
        "| It# |         a          |         b          |         p          | f(a) |        f(b)        |\n",
        "+-----+--------------------+--------------------+--------------------+------+--------------------+\n",
        "|  1  |         0          |        1.25        |       0.625        | 3.0  | 1.6824939607034732 |\n",
        "|  2  |       0.625        |        1.25        |       0.9375       | 3.0  | 1.6824939607034732 |\n",
        "|  3  |       0.625        |       0.9375       |      0.78125       | 3.0  | 1.6824939607034732 |\n",
        "|  4  |      0.78125       |       0.9375       |      0.859375      | 3.0  | 1.6824939607034732 |\n",
        "|  5  |      0.859375      |       0.9375       |     0.8984375      | 3.0  | 1.6824939607034732 |\n",
        "|  6  |      0.859375      |     0.8984375      |     0.87890625     | 3.0  | 1.6824939607034732 |\n",
        "|  7  |     0.87890625     |     0.8984375      |    0.888671875     | 3.0  | 1.6824939607034732 |\n",
        "|  8  |     0.87890625     |    0.888671875     |    0.8837890625    | 3.0  | 1.6824939607034732 |\n",
        "|  9  |    0.8837890625    |    0.888671875     |   0.88623046875    | 3.0  | 1.6824939607034732 |\n",
        "|  10 |    0.8837890625    |   0.88623046875    |   0.885009765625   | 3.0  | 1.6824939607034732 |\n",
        "|  11 |    0.8837890625    |   0.885009765625   |  0.8843994140625   | 3.0  | 1.6824939607034732 |\n",
        "|  12 |    0.8837890625    |  0.8843994140625   |  0.88409423828125  | 3.0  | 1.6824939607034732 |\n",
        "|  13 |  0.88409423828125  |  0.8843994140625   | 0.884246826171875  | 3.0  | 1.6824939607034732 |\n",
        "|  14 |  0.88409423828125  | 0.884246826171875  | 0.8841705322265625 | 3.0  | 1.6824939607034732 |\n",
        "|  15 | 0.8841705322265625 | 0.884246826171875  | 0.8842086791992188 | 3.0  | 1.6824939607034732 |\n",
        "|  16 | 0.8842086791992188 | 0.884246826171875  | 0.8842277526855469 | 3.0  | 1.6824939607034732 |\n",
        "|  17 | 0.8842086791992188 | 0.8842277526855469 | 0.8842182159423828 | 3.0  | 1.6824939607034732 |\n",
        "+-----+--------------------+--------------------+--------------------+------+--------------------+\n",
        "```\n",
        "However, add another column `abs(pn - pn_1)/pn` which shows the value $abs(p_n - p_{n-1})/p_n)$."
      ]
    },
    {
      "cell_type": "markdown",
      "id": "complicated-cookie",
      "metadata": {
        "deletable": false,
        "editable": false,
        "nbgrader": {
          "cell_type": "markdown",
          "checksum": "35edced7ed1b8bb9fea5adbea687f735",
          "grade": false,
          "grade_id": "cell-b113edf31551a1ae",
          "locked": true,
          "schema_version": 3,
          "solution": false,
          "task": false
        },
        "id": "complicated-cookie"
      },
      "source": [
        "`prettytable` is a small library that let you print tables in nice formatting easily.\n",
        "\n",
        "You should\n",
        "First install prettytable by running the following cell:"
      ]
    },
    {
      "cell_type": "code",
      "execution_count": null,
      "id": "cooperative-miniature",
      "metadata": {
        "id": "cooperative-miniature",
        "outputId": "01305078-599e-486f-c8b2-ab83ca029b49",
        "colab": {
          "base_uri": "https://localhost:8080/"
        }
      },
      "outputs": [
        {
          "output_type": "stream",
          "name": "stdout",
          "text": [
            "Requirement already satisfied: prettytable in /usr/local/lib/python3.7/dist-packages (3.2.0)\n",
            "Requirement already satisfied: importlib-metadata in /usr/local/lib/python3.7/dist-packages (from prettytable) (4.11.3)\n",
            "Requirement already satisfied: wcwidth in /usr/local/lib/python3.7/dist-packages (from prettytable) (0.2.5)\n",
            "Requirement already satisfied: zipp>=0.5 in /usr/local/lib/python3.7/dist-packages (from importlib-metadata->prettytable) (3.7.0)\n",
            "Requirement already satisfied: typing-extensions>=3.6.4 in /usr/local/lib/python3.7/dist-packages (from importlib-metadata->prettytable) (3.10.0.2)\n"
          ]
        }
      ],
      "source": [
        "!pip install prettytable"
      ]
    },
    {
      "cell_type": "code",
      "execution_count": null,
      "id": "american-supervisor",
      "metadata": {
        "deletable": false,
        "nbgrader": {
          "cell_type": "code",
          "checksum": "0a338055e220930153104158dce6c157",
          "grade": false,
          "grade_id": "cell-86511fbff729055c",
          "locked": false,
          "schema_version": 3,
          "solution": true,
          "task": false
        },
        "id": "american-supervisor"
      },
      "outputs": [],
      "source": [
        "from prettytable import PrettyTable\n",
        "table = PrettyTable()\n",
        "table.field_names = ['It#', 'a', 'b', 'p', 'f(a)', 'f(b)', 'abs(pn-pn_1)/pn']\n",
        "# Add rows to the table using table.add_row([<values>]). Replace values with the columns at the added row.\n",
        "def bisection(equation, a=0, b=np.pi/2, tolerance=1e-5):\n",
        "    \"\"\"\n",
        "    equation (function): a function that we want to solve\n",
        "    a (float): the starting point of the solution interval\n",
        "    b (float): the end point of the solution interval\n",
        "    tolerance (float): the value after which we stop iterating\n",
        "    \"\"\"\n",
        "    table = PrettyTable()\n",
        "    table.field_names = ['It#', 'a', 'b', 'p', 'f(a)', 'f(b)', 'abs(pn-pn_1)/pn']\n",
        "    fa=equation(a)\n",
        "    fb=equation(b)\n",
        "    it = 0\n",
        "    while abs(a-b)/2 > tolerance:\n",
        "      it+=1\n",
        "      solution = (a+b)/2\n",
        "      f_solution = equation(solution)\n",
        "      table.add_row([it,a,b,(a+b)/2, fa,fb,2*abs(a+b/2 -solution)/(a+b)])\n",
        "      if fa*f_solution <=0 :\n",
        "        b =solution\n",
        "      else:\n",
        "        a=solution\n",
        "    print(table)\n",
        "    return((a+b)/2)\n",
        "    # YOUR CODE HERE\n",
        "    raise NotImplementedError()"
      ]
    },
    {
      "cell_type": "code",
      "execution_count": null,
      "id": "clean-leather",
      "metadata": {
        "deletable": false,
        "editable": false,
        "nbgrader": {
          "cell_type": "code",
          "checksum": "086613758269ad438989edaaa948ea6d",
          "grade": true,
          "grade_id": "cell-08c9e2a6ccfffee2",
          "locked": true,
          "points": 3,
          "schema_version": 3,
          "solution": false,
          "task": false
        },
        "id": "clean-leather",
        "outputId": "c216b074-ec1d-4c8d-a6b8-25cc3bd5601c",
        "colab": {
          "base_uri": "https://localhost:8080/"
        }
      },
      "outputs": [
        {
          "output_type": "stream",
          "name": "stdout",
          "text": [
            "+-----+-------------------+--------------------+--------------------+------+--------------------+---------------------+\n",
            "| It# |         a         |         b          |         p          | f(a) |        f(b)        |   abs(pn-pn_1)/pn   |\n",
            "+-----+-------------------+--------------------+--------------------+------+--------------------+---------------------+\n",
            "|  1  |         0         |        2.5         |        1.25        | -2.0 | 2.3011436155469336 |         0.0         |\n",
            "|  2  |        1.25       |        2.5         |       1.875        | -2.0 | 2.3011436155469336 |  0.3333333333333333 |\n",
            "|  3  |        1.25       |       1.875        |       1.5625       | -2.0 | 2.3011436155469336 |         0.4         |\n",
            "|  4  |        1.25       |       1.5625       |      1.40625       | -2.0 | 2.3011436155469336 |  0.4444444444444444 |\n",
            "|  5  |        1.25       |      1.40625       |      1.328125      | -2.0 | 2.3011436155469336 | 0.47058823529411764 |\n",
            "|  6  |        1.25       |      1.328125      |     1.2890625      | -2.0 | 2.3011436155469336 | 0.48484848484848486 |\n",
            "|  7  |        1.25       |     1.2890625      |     1.26953125     | -2.0 | 2.3011436155469336 | 0.49230769230769234 |\n",
            "|  8  |     1.26953125    |     1.2890625      |    1.279296875     | -2.0 | 2.3011436155469336 |  0.4961832061068702 |\n",
            "|  9  |    1.279296875    |     1.2890625      |    1.2841796875    | -2.0 | 2.3011436155469336 | 0.49809885931558934 |\n",
            "|  10 |    1.279296875    |    1.2841796875    |   1.28173828125    | -2.0 | 2.3011436155469336 |  0.4990476190476191 |\n",
            "|  11 |   1.28173828125   |    1.2841796875    |   1.282958984375   | -2.0 | 2.3011436155469336 |  0.4995242626070409 |\n",
            "|  12 |   1.282958984375  |    1.2841796875    |  1.2835693359375   | -2.0 | 2.3011436155469336 |  0.4997622444127437 |\n",
            "|  13 |   1.282958984375  |  1.2835693359375   |  1.28326416015625  | -2.0 | 2.3011436155469336 |  0.4998810939357907 |\n",
            "|  14 |  1.28326416015625 |  1.2835693359375   | 1.283416748046875  | -2.0 | 2.3011436155469336 | 0.49994055403638094 |\n",
            "|  15 | 1.283416748046875 |  1.2835693359375   | 1.2834930419921875 | -2.0 | 2.3011436155469336 |  0.4999702787849967 |\n",
            "|  16 | 1.283416748046875 | 1.2834930419921875 | 1.2834548950195312 | -2.0 | 2.3011436155469336 |  0.4999851389508099 |\n",
            "|  17 | 1.283416748046875 | 1.2834548950195312 | 1.2834358215332031 | -2.0 | 2.3011436155469336 | 0.49999256936497793 |\n",
            "+-----+-------------------+--------------------+--------------------+------+--------------------+---------------------+\n"
          ]
        }
      ],
      "source": [
        "### BEGIN TEST\n",
        "p = bisection(eq1, 0, 2.5, 1e-5)\n",
        "### END TEST"
      ]
    },
    {
      "cell_type": "markdown",
      "id": "vertical-conditions",
      "metadata": {
        "deletable": false,
        "editable": false,
        "nbgrader": {
          "cell_type": "markdown",
          "checksum": "55fdde2b61f66e0f8dae02c1623a778e",
          "grade": false,
          "grade_id": "cell-93c4d105a09e3c0d",
          "locked": true,
          "schema_version": 3,
          "solution": false,
          "task": false
        },
        "id": "vertical-conditions"
      },
      "source": [
        "Define a function `eq2` to ﬁnd the positive solutions of the equation $f(x) = e^x - 5x + 2$ in the interval \n",
        "$[0.1, 1]$ by the bisection method.\n",
        "\n",
        "Convince yourself that the solutions seems accurate from the plot of $f(x) = e^x - 5x + 2$  in the range $[0.0, 2.5]$."
      ]
    },
    {
      "cell_type": "code",
      "execution_count": null,
      "id": "impressed-artist",
      "metadata": {
        "deletable": false,
        "nbgrader": {
          "cell_type": "code",
          "checksum": "e6f8d5d148b04a39ec73dd97611aaa8a",
          "grade": false,
          "grade_id": "cell-304ff57b80148bdc",
          "locked": false,
          "schema_version": 3,
          "solution": true,
          "task": false
        },
        "id": "impressed-artist"
      },
      "outputs": [],
      "source": [
        "def eq2(x):\n",
        "    # YOUR CODE HERE\n",
        "    return((np.e)**x - 5*x +2)\n",
        "    raise NotImplementedError()"
      ]
    },
    {
      "cell_type": "code",
      "execution_count": null,
      "id": "numerous-allocation",
      "metadata": {
        "deletable": false,
        "editable": false,
        "nbgrader": {
          "cell_type": "code",
          "checksum": "24fbf7915a0df4c4ec70dc30a6b2cc24",
          "grade": true,
          "grade_id": "cell-d02fc2578605fe09",
          "locked": true,
          "points": 1,
          "schema_version": 3,
          "solution": false,
          "task": false
        },
        "id": "numerous-allocation",
        "outputId": "3cd03076-849a-4192-cdc2-01c40934db26",
        "colab": {
          "base_uri": "https://localhost:8080/",
          "height": 753
        }
      },
      "outputs": [
        {
          "output_type": "stream",
          "name": "stdout",
          "text": [
            "+-----+--------------------+-------------------+--------------------+------+--------------------+---------------------+\n",
            "| It# |         a          |         b         |         p          | f(a) |        f(b)        |   abs(pn-pn_1)/pn   |\n",
            "+-----+--------------------+-------------------+--------------------+------+--------------------+---------------------+\n",
            "|  1  |         0          |        2.5        |        1.25        | 3.0  | 1.6824939607034715 |         0.0         |\n",
            "|  2  |         0          |        1.25       |       0.625        | 3.0  | 1.6824939607034715 |         0.0         |\n",
            "|  3  |       0.625        |        1.25       |       0.9375       | 3.0  | 1.6824939607034715 |  0.3333333333333333 |\n",
            "|  4  |       0.625        |       0.9375      |      0.78125       | 3.0  | 1.6824939607034715 |         0.4         |\n",
            "|  5  |      0.78125       |       0.9375      |      0.859375      | 3.0  | 1.6824939607034715 | 0.45454545454545453 |\n",
            "|  6  |      0.859375      |       0.9375      |     0.8984375      | 3.0  | 1.6824939607034715 |  0.4782608695652174 |\n",
            "|  7  |      0.859375      |     0.8984375     |     0.87890625     | 3.0  | 1.6824939607034715 |  0.4888888888888889 |\n",
            "|  8  |     0.87890625     |     0.8984375     |    0.888671875     | 3.0  | 1.6824939607034715 |  0.4945054945054945 |\n",
            "|  9  |     0.87890625     |    0.888671875    |    0.8837890625    | 3.0  | 1.6824939607034715 |  0.4972375690607735 |\n",
            "|  10 |    0.8837890625    |    0.888671875    |   0.88623046875    | 3.0  | 1.6824939607034715 |  0.4986225895316804 |\n",
            "|  11 |    0.8837890625    |   0.88623046875   |   0.885009765625   | 3.0  | 1.6824939607034715 |  0.4993103448275862 |\n",
            "|  12 |    0.8837890625    |   0.885009765625  |  0.8843994140625   | 3.0  | 1.6824939607034715 |  0.4996549344375431 |\n",
            "|  13 |    0.8837890625    |  0.8843994140625  |  0.88409423828125  | 3.0  | 1.6824939607034715 | 0.49982740766309974 |\n",
            "|  14 |  0.88409423828125  |  0.8843994140625  | 0.884246826171875  | 3.0  | 1.6824939607034715 |  0.4999137187230371 |\n",
            "|  15 |  0.88409423828125  | 0.884246826171875 | 0.8841705322265625 | 3.0  | 1.6824939607034715 | 0.49995685563896797 |\n",
            "|  16 | 0.8841705322265625 | 0.884246826171875 | 0.8842086791992188 | 3.0  | 1.6824939607034715 |  0.4999784287501618 |\n",
            "|  17 | 0.8842086791992188 | 0.884246826171875 | 0.8842277526855469 | 3.0  | 1.6824939607034715 | 0.49998921460773527 |\n",
            "+-----+--------------------+-------------------+--------------------+------+--------------------+---------------------+\n"
          ]
        },
        {
          "output_type": "display_data",
          "data": {
            "text/plain": [
              "<Figure size 576x432 with 1 Axes>"
            ],
            "image/png": "[encoded data removed]"
          },
          "metadata": {
            "needs_background": "light"
          }
        }
      ],
      "source": [
        "### BEGIN TEST\n",
        "p = bisection(eq2, 0, 2.5, 1e-5)\n",
        "assert p == 0.8842182159423828\n",
        "plt.figure(figsize=(8,6))\n",
        "plt.grid()\n",
        "plt.xlabel('X-axis')\n",
        "plt.ylabel('Y-axis')\n",
        "plt.axhline(y=0, color='k')\n",
        "plt.axvline(x=p, color='m', linestyle='--')\n",
        "x = np.linspace(0, 2.5, 50)\n",
        "y = eq2(x)\n",
        "plt.plot(x, y, 'r')\n",
        "plt.show()\n",
        "### END TEST"
      ]
    },
    {
      "cell_type": "markdown",
      "id": "quick-punishment",
      "metadata": {
        "id": "quick-punishment"
      },
      "source": [
        "**THANK YOU**"
      ]
    }
  ],
  "metadata": {
    "kernelspec": {
      "display_name": "Python 3",
      "language": "python",
      "name": "python3"
    },
    "language_info": {
      "codemirror_mode": {
        "name": "ipython",
        "version": 3
      },
      "file_extension": ".py",
      "mimetype": "text/x-python",
      "name": "python",
      "nbconvert_exporter": "python",
      "pygments_lexer": "ipython3",
      "version": "3.7.1"
    },
    "colab": {
      "name": "Lab 2 - Solution of Nonlinear Equations in One Variable - Bisection Method -Ahmad Mongy Saad -120200033.ipynb",
      "provenance": [],
      "collapsed_sections": []
    }
  },
  "nbformat": 4,
  "nbformat_minor": 5
}