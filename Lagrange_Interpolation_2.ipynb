{
  "cells": [
    {
      "cell_type": "markdown",
      "id": "ACGILnlfcfZb",
      "metadata": {
        "id": "ACGILnlfcfZb"
      },
      "source": [
        "---"
      ]
    },
    {
      "cell_type": "markdown",
      "id": "KDSXeGwPcfZc",
      "metadata": {
        "deletable": false,
        "editable": false,
        "id": "KDSXeGwPcfZc",
        "nbgrader": {
          "cell_type": "markdown",
          "checksum": "543717b991619b9b891466f9333365ce",
          "grade": false,
          "grade_id": "cell-1fc84fa265289359",
          "locked": true,
          "schema_version": 3,
          "solution": false,
          "task": false
        }
      },
      "source": [
        "# Numerical Analysis\n",
        "# Lagrange Interpolation Part2"
      ]
    },
    {
      "cell_type": "markdown",
      "id": "xWURrFz_cfZd",
      "metadata": {
        "id": "xWURrFz_cfZd"
      },
      "source": [
        "## Remember\n",
        "\n",
        "If $x_0, x_1, \\dots , x_n$ are $n + 1$ distinct numbers and $f$ is a function whose values are given at these numbers, then a unique polynomial $P(x)$ of degree at most $n$ exists with :\n",
        "\n",
        "$ f(x_k) = P(x_k) $ for each $k = 0, 1, \\dots k$\n",
        "\n",
        "This polynomial is given by:\n",
        "\n",
        "$$ P(x) = f(x_0)L_{0}(x)+\\dots+f(x_n)L_{n}(x) = \\sum_{k=0}^{n}f(x_k)L_{k}(x) $$\n",
        "\n",
        "where for each $k=0,1,\\dots, n$, $L_{k}(x)$ is defined as follows:\n",
        "\n",
        "$$ L_{k}(x) = \\frac{(x-x_0)(x-x_1)\\dots (x-x_{k-1})(x-x_{k+1})\\dots (x-x_n)}{(x_k-x_0)(x_k-x_1)\\dots (x_k-x_{k-1})(x_k-x_{k+1})\\dots (x_k-x_n)} $$\n",
        "\n",
        "$$ = \\prod_{i=0\\\\ i\\neq k}^{n} \\frac{(x-x_i)}{(x_k-x_i)}$$"
      ]
    },
    {
      "cell_type": "markdown",
      "id": "mDuch3WNcfZe",
      "metadata": {
        "deletable": false,
        "editable": false,
        "id": "mDuch3WNcfZe",
        "nbgrader": {
          "cell_type": "markdown",
          "checksum": "f334767d7b46db136fa229e4b119c9bc",
          "grade": false,
          "grade_id": "cell-c035df62268b58ca",
          "locked": true,
          "schema_version": 3,
          "solution": false,
          "task": false
        }
      },
      "source": [
        "It is required to estimate the value of the function $\\sqrt{u}$ at the value $u=1.4$ by interpolating the function at the following list of values\n",
        "\n",
        "| $x$ | $1.0$ | $2.0$ | $3.0$ |\n",
        "|---|-------|-------|-------|\n",
        "| $y$ | $1.0$ | $1.4142$| $1.7321$|\n",
        "\n",
        "Using Lagrnage Interpolation in Python.\n",
        "\n",
        "Lagrange Algorithm Pseudo-Code:\n",
        "\n",
        "```\n",
        "Input:\n",
        "    x: list of x values\n",
        "    y: list of y values (list of f(x) values)\n",
        "    u: the x value at which we want to interpolate f(x)\n",
        "Output:\n",
        "    An estimation of the value of f(u)\n",
        "\n",
        "Algorithm:\n",
        "    Calculate L_k(x) as follows:\n",
        "        numenator = empty list\n",
        "        denominator = empty list\n",
        "        Repeat for i = 0, 1, ... , n (the number of x values)\n",
        "            add to numenator (u - x_i) , where i != k\n",
        "            add to denominator (x_k - x_i) , where i != k\n",
        "        return Product(numenator) / Product(denominator)\n",
        "     \n",
        "    Calculate f(u) as follows:\n",
        "        return sum of (y_i * L_i) for i = 0, 1, ..., n        \n",
        "\n",
        "```"
      ]
    },
    {
      "cell_type": "markdown",
      "id": "RzoAgu8UcfZg",
      "metadata": {
        "deletable": false,
        "editable": false,
        "id": "RzoAgu8UcfZg",
        "nbgrader": {
          "cell_type": "markdown",
          "checksum": "6e5205d687f7a77a30dd46732a3f9a6f",
          "grade": false,
          "grade_id": "cell-86a84faa28c49163",
          "locked": true,
          "schema_version": 3,
          "solution": false,
          "task": false
        }
      },
      "source": [
        "#### TO-DO (1)\n",
        "\n",
        "Deﬁne a function `product(x)` that takes in a list of values and return their product (multiplication)."
      ]
    },
    {
      "cell_type": "code",
      "execution_count": null,
      "id": "s2DEGjbAcfZh",
      "metadata": {
        "deletable": false,
        "id": "s2DEGjbAcfZh",
        "nbgrader": {
          "cell_type": "code",
          "checksum": "503d0b989ab44162da4af533635a7f52",
          "grade": false,
          "grade_id": "cell-db97c555e129ba01",
          "locked": false,
          "schema_version": 3,
          "solution": true,
          "task": false
        }
      },
      "outputs": [],
      "source": [
        "def product(x):\n",
        "    # YOUR CODE HERE\n",
        "    p =1\n",
        "    for _ in x:\n",
        "      p *= _\n",
        "    return p\n",
        "    raise NotImplementedError()"
      ]
    },
    {
      "cell_type": "code",
      "execution_count": null,
      "id": "SVJVxmfXcfZi",
      "metadata": {
        "deletable": false,
        "editable": false,
        "id": "SVJVxmfXcfZi",
        "nbgrader": {
          "cell_type": "code",
          "checksum": "8d7277da241f6a4b78a40c74e693ac92",
          "grade": true,
          "grade_id": "cell-731c6a3f26924bdb",
          "locked": true,
          "points": 1,
          "schema_version": 3,
          "solution": false,
          "task": false
        }
      },
      "outputs": [],
      "source": [
        "assert product([1,2,3,4]) == 24\n",
        "assert product([4,3,2,1]) == 24"
      ]
    },
    {
      "cell_type": "markdown",
      "id": "OiEkrGhGcfZi",
      "metadata": {
        "deletable": false,
        "editable": false,
        "id": "OiEkrGhGcfZi",
        "nbgrader": {
          "cell_type": "markdown",
          "checksum": "cb772729a97c9b2f3fa682f0837eeb53",
          "grade": false,
          "grade_id": "cell-751b31697bf40662",
          "locked": true,
          "schema_version": 3,
          "solution": false,
          "task": false
        }
      },
      "source": [
        "#### TO-DO (2)\n",
        "\n",
        "Defien a function `L(k, x, u)` that takes in the index of the current term $L_k$, the x values `x`, and the input x value `u` - and returns the value of $L_k(x)$. Check the **Remember** cell above for how to compute this function."
      ]
    },
    {
      "cell_type": "code",
      "execution_count": null,
      "id": "T0ggK8_xdUE4",
      "metadata": {
        "deletable": false,
        "id": "T0ggK8_xdUE4",
        "nbgrader": {
          "cell_type": "code",
          "checksum": "b71524fa201bcd4faa02d64833325407",
          "grade": false,
          "grade_id": "cell-1a2a21e628de402b",
          "locked": false,
          "schema_version": 3,
          "solution": true,
          "task": false
        }
      },
      "outputs": [],
      "source": [
        "def L(k, x, u):\n",
        "    # YOUR CODE HERE\n",
        "    lst=[]\n",
        "    for i in range(len(x)):\n",
        "      if i!= k:\n",
        "        lst.append((u-x[i])/(x[k]-x[i]))\n",
        "    return product(lst)\n",
        "    raise NotImplementedError()"
      ]
    },
    {
      "cell_type": "code",
      "execution_count": null,
      "id": "xRv0vlIXcfZj",
      "metadata": {
        "deletable": false,
        "editable": false,
        "id": "xRv0vlIXcfZj",
        "nbgrader": {
          "cell_type": "code",
          "checksum": "69d0a3364295d803ecfee15a77883cf4",
          "grade": true,
          "grade_id": "cell-590a3e49a220661b",
          "locked": true,
          "points": 1,
          "schema_version": 3,
          "solution": false,
          "task": false
        }
      },
      "outputs": [],
      "source": [
        "import numpy as np\n",
        "assert np.isclose(L(1, [1,2,3], 1.4), 0.639999999999)"
      ]
    },
    {
      "cell_type": "markdown",
      "id": "M7uP-mV9cfZj",
      "metadata": {
        "deletable": false,
        "editable": false,
        "id": "M7uP-mV9cfZj",
        "nbgrader": {
          "cell_type": "markdown",
          "checksum": "6d9c43cb87703fd8b1f3ae63a9b14196",
          "grade": false,
          "grade_id": "cell-a41256e3897e3d5b",
          "locked": true,
          "schema_version": 3,
          "solution": false,
          "task": false
        }
      },
      "source": [
        "#### TO-DO (3)\n",
        "\n",
        "Define a function `lagrange` that takes in the x values `x`, the y values `y`, the input x value `u` and returns an estimation of the interpolated function at `u`, `f(u)`. Check the **Remember** cell above for how to compute this value."
      ]
    },
    {
      "cell_type": "code",
      "execution_count": null,
      "id": "aquatic-timing",
      "metadata": {
        "deletable": false,
        "id": "aquatic-timing",
        "nbgrader": {
          "cell_type": "code",
          "checksum": "4a795ddb735aeac531cc5756f523b855",
          "grade": false,
          "grade_id": "cell-14f505e9b940e351",
          "locked": false,
          "schema_version": 3,
          "solution": true,
          "task": false
        }
      },
      "outputs": [],
      "source": [
        "def lagrange(x, y, u):\n",
        "    # YOUR CODE HERE\n",
        "    rslt= 0\n",
        "    for i_ in range(len(x)):\n",
        "      L_k = L(i_, x,u)\n",
        "      rslt += L_k*y[i_]\n",
        "    return rslt\n",
        "    raise NotImplementedError()"
      ]
    },
    {
      "cell_type": "code",
      "execution_count": null,
      "id": "CJgllsuZcfZk",
      "metadata": {
        "deletable": false,
        "editable": false,
        "id": "CJgllsuZcfZk",
        "nbgrader": {
          "cell_type": "code",
          "checksum": "55f02d39827cf7280f2186c696f50a38",
          "grade": true,
          "grade_id": "cell-e1e007d3f7c9885a",
          "locked": true,
          "points": 1,
          "schema_version": 3,
          "solution": false,
          "task": false
        }
      },
      "outputs": [],
      "source": [
        "import numpy as np\n",
        "assert np.isclose(lagrange([1,2,3], [1,1.4142,1.7321], 1.4), 1.177236)"
      ]
    },
    {
      "cell_type": "markdown",
      "id": "SlNgE3RLcfZk",
      "metadata": {
        "id": "SlNgE3RLcfZk"
      },
      "source": [
        "#### TO-DO (4)\n",
        "\n",
        "Repeat the computation with the additional data point $x = 1.2, y=1.09054$. The interpolated value at 1.4 should be stored in a variable `output`."
      ]
    },
    {
      "cell_type": "code",
      "execution_count": null,
      "id": "U6Om37LxcfZk",
      "metadata": {
        "deletable": false,
        "id": "U6Om37LxcfZk",
        "nbgrader": {
          "cell_type": "code",
          "checksum": "f76e07ad045214ca3d19a1f1e570ceb3",
          "grade": false,
          "grade_id": "cell-63c7063bb9fffcc0",
          "locked": false,
          "schema_version": 3,
          "solution": true,
          "task": false
        }
      },
      "outputs": [],
      "source": [
        "# YOUR CODE HERE\n",
        "output= lagrange([1,1.2,2,3], [1,1.09054,1.4142,1.7321],1.4)\n",
        "#raise NotImplementedError()"
      ]
    },
    {
      "cell_type": "code",
      "execution_count": null,
      "id": "XSXD310zcfZk",
      "metadata": {
        "deletable": false,
        "editable": false,
        "id": "XSXD310zcfZk",
        "nbgrader": {
          "cell_type": "code",
          "checksum": "f7cb32ad682a79602250160f589f9ae9",
          "grade": true,
          "grade_id": "cell-32e2c4695dfbc472",
          "locked": true,
          "points": 1,
          "schema_version": 3,
          "solution": false,
          "task": false
        }
      },
      "outputs": [],
      "source": [
        "import numpy as np\n",
        "assert np.isclose(output, 1.177236)"
      ]
    },
    {
      "cell_type": "markdown",
      "id": "x5G3aR_ocfZk",
      "metadata": {
        "id": "x5G3aR_ocfZk"
      },
      "source": [
        "#### TO-DO (5)\n",
        "\n",
        "Draw the graphs of $f(x)=1/(1 + 25 x^2)$ and $P(x)$, the Lagrange interpolating polynomial of degree 4 that interpolates $f(x)$ at the following list of points:\n",
        "\n",
        "* `x=[-1.0, -0.5, 0.0, +0.5, +1.0]`. Use a 'blue' color for the drawing of $f(x)$ and a red color for $P(x)$ (in the same figure). "
      ]
    },
    {
      "cell_type": "code",
      "execution_count": null,
      "id": "O2TNdtrdcfZl",
      "metadata": {
        "deletable": false,
        "editable": false,
        "id": "O2TNdtrdcfZl",
        "nbgrader": {
          "cell_type": "code",
          "checksum": "a6f8ef65cf5f4892207b127e0027bb8b",
          "grade": false,
          "grade_id": "cell-ee03eecc79e901e4",
          "locked": true,
          "schema_version": 3,
          "solution": false,
          "task": false
        }
      },
      "outputs": [],
      "source": [
        "import numpy as np\n",
        "\n",
        "# define the function f(x)\n",
        "def f(x):\n",
        "    return 1 / (1 + 25 * x**2)\n",
        "\n",
        "# define the interpolation points\n",
        "x_values = np.array([-1.0, -0.5, 0.0, +0.5, +1.0])\n",
        "y_values = f(x_values)"
      ]
    },
    {
      "cell_type": "code",
      "execution_count": null,
      "id": "66yOrCNkcfZl",
      "metadata": {
        "deletable": false,
        "id": "66yOrCNkcfZl",
        "nbgrader": {
          "cell_type": "code",
          "checksum": "7ec2ad52d54bdf5c2152fdea4f16ac58",
          "grade": false,
          "grade_id": "cell-b65ccc349d0c12df",
          "locked": false,
          "schema_version": 3,
          "solution": true,
          "task": false
        }
      },
      "outputs": [],
      "source": [
        "import matplotlib.pyplot as plt\n",
        "\n",
        "def plot_fx_Px():\n",
        "  # 1. plot f(x)\n",
        "    # YOUR CODE HERE\n",
        "    x= np.linspace(-1,1,1000)\n",
        "    y=f(x)\n",
        "    plt.figure(figsize=(6.4*1.5,4.8*1.5),facecolor=[0.91,0.91,0.91])\n",
        "    plt.plot(x,y,color=\"blue\")\n",
        "  # 1. plot p(x)\n",
        "    # YOUR CODE HERE\n",
        "    y= lagrange(x_values,y_values,x)\n",
        "    plt.plot(x,y,color=\"red\")\n",
        "    return plt.show()\n",
        "    raise NotImplementedError()"
      ]
    },
    {
      "cell_type": "code",
      "execution_count": null,
      "id": "Pn8T3f1KcfZl",
      "metadata": {
        "colab": {
          "base_uri": "https://localhost:8080/",
          "height": 439
        },
        "deletable": false,
        "editable": false,
        "id": "Pn8T3f1KcfZl",
        "nbgrader": {
          "cell_type": "code",
          "checksum": "404508a229eb48b245de68f60a3d1f99",
          "grade": true,
          "grade_id": "test1",
          "locked": true,
          "points": 1,
          "schema_version": 3,
          "solution": false,
          "task": false
        },
        "outputId": "cfeea601-0dd9-483a-ed70-1c62beaa2d06"
      },
      "outputs": [
        {
          "data": {
            "image/png": "[encoded data removed]",
            "text/plain": [
              "<Figure size 691.2x518.4 with 1 Axes>"
            ]
          },
          "metadata": {},
          "output_type": "display_data"
        }
      ],
      "source": [
        "plot_fx_Px()\n"
      ]
    },
    {
      "cell_type": "markdown",
      "id": "DAkXphBrcfZl",
      "metadata": {
        "id": "DAkXphBrcfZl"
      },
      "source": [
        "* Increase the number of points used for the interpolation of $P(x)$ to 11 points (from -1 to +1 using increments of 0.2)."
      ]
    },
    {
      "cell_type": "code",
      "execution_count": null,
      "id": "dveycfBbcfZm",
      "metadata": {
        "deletable": false,
        "id": "dveycfBbcfZm",
        "nbgrader": {
          "cell_type": "code",
          "checksum": "c560c5068d0969078c4de82baaebca80",
          "grade": false,
          "grade_id": "cell-2cd08985054755a3",
          "locked": false,
          "schema_version": 3,
          "solution": true,
          "task": false
        }
      },
      "outputs": [],
      "source": [
        "import matplotlib.pyplot as plt\n",
        "\n",
        "x_values = np.linspace(-1,1,11)\n",
        "y_values = f(x_values)\n",
        "def plot_fx_Px():\n",
        "  # 1. plot f(x)\n",
        "    # YOUR CODE HERE\n",
        "    x= np.linspace(-1,1,1000)\n",
        "    y=f(x)\n",
        "    plt.figure(figsize=(6.4*1.5,4.8*1.5),facecolor=[0.91,0.91,0.91])\n",
        "    plt.plot(x,y,color=\"blue\")\n",
        "  # 1. plot p(x)\n",
        "    # YOUR CODE HERE\n",
        "    y= lagrange(x_values,y_values,x)\n",
        "    plt.plot(x,y,color=\"red\")\n",
        "    return plt.show()\n",
        "    raise NotImplementedError()"
      ]
    },
    {
      "cell_type": "code",
      "execution_count": null,
      "id": "O8mIw3-CcfZm",
      "metadata": {
        "colab": {
          "base_uri": "https://localhost:8080/",
          "height": 439
        },
        "deletable": false,
        "editable": false,
        "id": "O8mIw3-CcfZm",
        "nbgrader": {
          "cell_type": "code",
          "checksum": "9df1c6d803ed20b2e97be7d553928e29",
          "grade": true,
          "grade_id": "cell-673849389174db19",
          "locked": true,
          "points": 1,
          "schema_version": 3,
          "solution": false,
          "task": false
        },
        "outputId": "41054097-5408-4472-c1d4-60f9ef57f2bb"
      },
      "outputs": [
        {
          "data": {
            "image/png": "[encoded data removed]",
            "text/plain": [
              "<Figure size 691.2x518.4 with 1 Axes>"
            ]
          },
          "metadata": {},
          "output_type": "display_data"
        }
      ],
      "source": [
        "plot_fx_Px()"
      ]
    },
    {
      "cell_type": "markdown",
      "id": "QQTiy79acfZm",
      "metadata": {
        "id": "QQTiy79acfZm"
      },
      "source": [
        "* Repeat the above problem for $f(x)=sin(x)$. What can be concluded?"
      ]
    },
    {
      "cell_type": "code",
      "execution_count": null,
      "id": "xi-MYJcJcfZm",
      "metadata": {
        "deletable": false,
        "id": "xi-MYJcJcfZm",
        "nbgrader": {
          "cell_type": "code",
          "checksum": "703236a4174d942af4a70d795d1b5bf5",
          "grade": false,
          "grade_id": "cell-5da9219a8cd6ac80",
          "locked": false,
          "schema_version": 3,
          "solution": true,
          "task": false
        }
      },
      "outputs": [],
      "source": [
        "# define the function f(x)\n",
        "def f(x):\n",
        "    return np.sin(x)\n",
        "    # YOUR CODE HERE\n",
        "    raise NotImplementedError()"
      ]
    },
    {
      "cell_type": "code",
      "execution_count": null,
      "id": "rGOW3qNycfZm",
      "metadata": {
        "deletable": false,
        "id": "rGOW3qNycfZm",
        "nbgrader": {
          "cell_type": "code",
          "checksum": "9d9fa714349aa965146241ea5f81f4bb",
          "grade": false,
          "grade_id": "cell-87bd38152180939c",
          "locked": false,
          "schema_version": 3,
          "solution": true,
          "task": false
        }
      },
      "outputs": [],
      "source": [
        "import matplotlib.pyplot as plt\n",
        "x_values = np.linspace(-1,1,11)\n",
        "y_values = f(x_values)\n",
        "def plot_fx_Px():\n",
        "  # 1. plot f(x)\n",
        "    # YOUR CODE HERE\n",
        "    x= np.linspace(-5.5,5.5,5000)\n",
        "    y=f(x)\n",
        "    plt.figure(figsize=(6.4*1.5,4.8*1.5),facecolor=[0.91,0.91,0.91])\n",
        "    plt.plot(x,y,color=\"blue\")\n",
        "  # 1. plot p(x)\n",
        "    # YOUR CODE HERE\n",
        "    y= lagrange(x_values,y_values,x)\n",
        "    plt.plot(x,y,color=\"red\")\n",
        "    return plt.show()\n",
        "    raise NotImplementedError()"
      ]
    },
    {
      "cell_type": "code",
      "execution_count": null,
      "id": "N4LZFQJqcfZm",
      "metadata": {
        "colab": {
          "base_uri": "https://localhost:8080/",
          "height": 439
        },
        "deletable": false,
        "editable": false,
        "id": "N4LZFQJqcfZm",
        "nbgrader": {
          "cell_type": "code",
          "checksum": "fa0b06a177b2fed53eb7a27dfff81520",
          "grade": true,
          "grade_id": "cell-bbb160ede3961cb5",
          "locked": true,
          "points": 1,
          "schema_version": 3,
          "solution": false,
          "task": false
        },
        "outputId": "2aa8223d-a9f1-4cd9-ff22-02b306bafd9a"
      },
      "outputs": [
        {
          "data": {
            "image/png": "[encoded data removed]",
            "text/plain": [
              "<Figure size 691.2x518.4 with 1 Axes>"
            ]
          },
          "metadata": {},
          "output_type": "display_data"
        }
      ],
      "source": [
        "plot_fx_Px()"
      ]
    },
    {
      "cell_type": "markdown",
      "id": "q8jUjcbQcfZn",
      "metadata": {
        "id": "q8jUjcbQcfZn"
      },
      "source": [
        "**\\[THE END\\]**"
      ]
    }
  ],
  "metadata": {
    "colab": {
      "collapsed_sections": [],
      "name": "Ahmad Mongy- 120200033 Lab7 - Lagrange_Interpolation_2.ipynb",
      "provenance": []
    },
    "kernelspec": {
      "display_name": "Python 3",
      "language": "python",
      "name": "python3"
    },
    "language_info": {
      "codemirror_mode": {
        "name": "ipython",
        "version": 3
      },
      "file_extension": ".py",
      "mimetype": "text/x-python",
      "name": "python",
      "nbconvert_exporter": "python",
      "pygments_lexer": "ipython3",
      "version": "3.7.6"
    }
  },
  "nbformat": 4,
  "nbformat_minor": 5
}
