{
  "cells": [
    {
      "cell_type": "markdown",
      "id": "warming-guest",
      "metadata": {
        "id": "warming-guest"
      },
      "source": [
        "---"
      ]
    },
    {
      "cell_type": "markdown",
      "id": "split-mercy",
      "metadata": {
        "deletable": false,
        "editable": false,
        "id": "split-mercy",
        "nbgrader": {
          "cell_type": "markdown",
          "checksum": "a34b810972fc06c80ac9d379a9f33ca4",
          "grade": false,
          "grade_id": "cell-1fc84fa265289359",
          "locked": true,
          "schema_version": 3,
          "solution": false,
          "task": false
        }
      },
      "source": [
        "# Numerical Analysis\n",
        "# Lagrange Interpolation"
      ]
    },
    {
      "cell_type": "markdown",
      "id": "alike-massachusetts",
      "metadata": {
        "id": "alike-massachusetts"
      },
      "source": [
        "## Remember\n",
        "\n",
        "If $x_0, x_1, \\dots , x_n$ are $n + 1$ distinct numbers and $f$ is a function whose values are given at these numbers, then a unique polynomial $P(x)$ of degree at most $n$ exists with :\n",
        "\n",
        "$ f(x_k) = P(x_k) $ for each $k = 0, 1, \\dots k$\n",
        "\n",
        "This polynomial is given by:\n",
        "\n",
        "$$ P(x) = f(x_0)L_{0}(x)+\\dots+f(x_n)L_{n}(x) = \\sum_{k=0}^{n}f(x_k)L_{k}(x) $$\n",
        "\n",
        "where for each $k=0,1,\\dots, n$, $L_{k}(x)$ is defined as follows:\n",
        "\n",
        "$$ L_{k}(x) = \\frac{(x-x_0)(x-x_1)\\dots (x-x_{k-1})(x-x_{k+1})\\dots (x-x_n)}{(x_k-x_0)(x_k-x_1)\\dots (x_k-x_{k-1})(x_k-x_{k+1})\\dots (x_k-x_n)} $$\n",
        "\n",
        "$$ = \\prod_{i=0\\\\ i\\neq k}^{n} \\frac{(x-x_i)}{(x_k-x_i)}$$"
      ]
    },
    {
      "cell_type": "markdown",
      "id": "experienced-dairy",
      "metadata": {
        "deletable": false,
        "editable": false,
        "id": "experienced-dairy",
        "nbgrader": {
          "cell_type": "markdown",
          "checksum": "f334767d7b46db136fa229e4b119c9bc",
          "grade": false,
          "grade_id": "cell-c035df62268b58ca",
          "locked": true,
          "schema_version": 3,
          "solution": false,
          "task": false
        }
      },
      "source": [
        "It is required to estimate the value of the function $\\sqrt{u}$ at the value $u=1.4$ by interpolating the function at the following list of values\n",
        "\n",
        "| $x$ | $1.0$ | $2.0$ | $3.0$ |\n",
        "|---|-------|-------|-------|\n",
        "| $y$ | $1.0$ | $1.4142$| $1.7321$|\n",
        "\n",
        "Using Lagrnage Interpolation in Python.\n",
        "\n",
        "Lagrange Algorithm Pseudo-Code:\n",
        "\n",
        "```\n",
        "Input:\n",
        "    x: list of x values\n",
        "    y: list of y values (list of f(x) values)\n",
        "    u: the x value at which we want to interpolate f(x)\n",
        "Output:\n",
        "    An estimation of the value of f(u)\n",
        "\n",
        "Algorithm:\n",
        "    Calculate L_k(x) as follows:\n",
        "        numenator = empty list\n",
        "        denominator = empty list\n",
        "        Repeat for i = 0, 1, ... , n (the number of x values)\n",
        "            add to numenator (u - x_i) , where i != k\n",
        "            add to denominator (x_k - x_i) , where i != k\n",
        "        return Product(numenator) / Product(denominator)\n",
        "     \n",
        "    Calculate f(u) as follows:\n",
        "        return sum of (y_i * L_i) for i = 0, 1, ..., n        \n",
        "\n",
        "```"
      ]
    },
    {
      "cell_type": "markdown",
      "id": "finished-indicator",
      "metadata": {
        "deletable": false,
        "editable": false,
        "id": "finished-indicator",
        "nbgrader": {
          "cell_type": "markdown",
          "checksum": "6e5205d687f7a77a30dd46732a3f9a6f",
          "grade": false,
          "grade_id": "cell-86a84faa28c49163",
          "locked": true,
          "schema_version": 3,
          "solution": false,
          "task": false
        }
      },
      "source": [
        "#### TO-DO (1)\n",
        "\n",
        "Deﬁne a function `product(x)` that takes in a list of values and return their product (multiplication)."
      ]
    },
    {
      "cell_type": "code",
      "execution_count": null,
      "id": "expired-imaging",
      "metadata": {
        "deletable": false,
        "id": "expired-imaging",
        "nbgrader": {
          "cell_type": "code",
          "checksum": "503d0b989ab44162da4af533635a7f52",
          "grade": false,
          "grade_id": "cell-db97c555e129ba01",
          "locked": false,
          "schema_version": 3,
          "solution": true,
          "task": false
        }
      },
      "outputs": [],
      "source": [
        "def product(x):\n",
        "    # YOUR CODE HERE\n",
        "    p =1\n",
        "    for _ in x:\n",
        "      p *= _\n",
        "    return p\n",
        "    raise NotImplementedError()"
      ]
    },
    {
      "cell_type": "code",
      "execution_count": null,
      "id": "senior-briefs",
      "metadata": {
        "deletable": false,
        "editable": false,
        "id": "senior-briefs",
        "nbgrader": {
          "cell_type": "code",
          "checksum": "bb7fae7b24c49915bca1b12423d54b6a",
          "grade": true,
          "grade_id": "cell-731c6a3f26924bdb",
          "locked": true,
          "points": 2,
          "schema_version": 3,
          "solution": false,
          "task": false
        }
      },
      "outputs": [],
      "source": [
        "assert product([1,2,3,4]) == 24\n",
        "assert product([4,3,2,1]) == 24"
      ]
    },
    {
      "cell_type": "markdown",
      "id": "sealed-fisher",
      "metadata": {
        "deletable": false,
        "editable": false,
        "id": "sealed-fisher",
        "nbgrader": {
          "cell_type": "markdown",
          "checksum": "cb772729a97c9b2f3fa682f0837eeb53",
          "grade": false,
          "grade_id": "cell-751b31697bf40662",
          "locked": true,
          "schema_version": 3,
          "solution": false,
          "task": false
        }
      },
      "source": [
        "#### TO-DO (2)\n",
        "\n",
        "Defien a function `L(k, x, u)` that takes in the index of the current term $L_k$, the x values `x`, and the input x value `u` - and returns the value of $L_k(x)$. Check the **Remember** cell above for how to compute this function."
      ]
    },
    {
      "cell_type": "code",
      "execution_count": null,
      "id": "institutional-cooling",
      "metadata": {
        "deletable": false,
        "id": "institutional-cooling",
        "nbgrader": {
          "cell_type": "code",
          "checksum": "b71524fa201bcd4faa02d64833325407",
          "grade": false,
          "grade_id": "cell-1a2a21e628de402b",
          "locked": false,
          "schema_version": 3,
          "solution": true,
          "task": false
        }
      },
      "outputs": [],
      "source": [
        "def L(k, x, u):\n",
        "    # YOUR CODE HERE\n",
        "    lst=[]\n",
        "    for i in range(len(x)):\n",
        "      if i!= k:\n",
        "        lst.append((u-x[i])/(x[k]-x[i]))\n",
        "    return product(lst)\n",
        "    raise NotImplementedError()"
      ]
    },
    {
      "cell_type": "code",
      "execution_count": null,
      "id": "healthy-infrared",
      "metadata": {
        "deletable": false,
        "editable": false,
        "id": "healthy-infrared",
        "nbgrader": {
          "cell_type": "code",
          "checksum": "c84565cabbd23f996dea2bce4c0dfba7",
          "grade": true,
          "grade_id": "cell-590a3e49a220661b",
          "locked": true,
          "points": 3,
          "schema_version": 3,
          "solution": false,
          "task": false
        }
      },
      "outputs": [],
      "source": [
        "import numpy as np\n",
        "assert np.isclose(L(1, [1,2,3], 1.4), 0.639999999999)"
      ]
    },
    {
      "cell_type": "markdown",
      "id": "disciplinary-cinema",
      "metadata": {
        "deletable": false,
        "editable": false,
        "id": "disciplinary-cinema",
        "nbgrader": {
          "cell_type": "markdown",
          "checksum": "6d9c43cb87703fd8b1f3ae63a9b14196",
          "grade": false,
          "grade_id": "cell-a41256e3897e3d5b",
          "locked": true,
          "schema_version": 3,
          "solution": false,
          "task": false
        }
      },
      "source": [
        "#### TO-DO (3)\n",
        "\n",
        "Define a function `lagrange` that takes in the x values `x`, the y values `y`, the input x value `u` and returns an estimation of the interpolated function at `u`, `f(u)`. Check the **Remember** cell above for how to compute this value."
      ]
    },
    {
      "cell_type": "code",
      "execution_count": null,
      "id": "aquatic-timing",
      "metadata": {
        "deletable": false,
        "id": "aquatic-timing",
        "nbgrader": {
          "cell_type": "code",
          "checksum": "4a795ddb735aeac531cc5756f523b855",
          "grade": false,
          "grade_id": "cell-14f505e9b940e351",
          "locked": false,
          "schema_version": 3,
          "solution": true,
          "task": false
        }
      },
      "outputs": [],
      "source": [
        "def lagrange(x, y, u):\n",
        "    # YOUR CODE HERE\n",
        "    rslt= 0\n",
        "    for i_ in range(len(x)):\n",
        "      L_k = L(i_, x,u)\n",
        "      rslt += L_k*y[i_]\n",
        "    return rslt\n",
        "    raise NotImplementedError()"
      ]
    },
    {
      "cell_type": "code",
      "execution_count": null,
      "id": "studied-hotel",
      "metadata": {
        "deletable": false,
        "editable": false,
        "id": "studied-hotel",
        "nbgrader": {
          "cell_type": "code",
          "checksum": "55f02d39827cf7280f2186c696f50a38",
          "grade": true,
          "grade_id": "cell-e1e007d3f7c9885a",
          "locked": true,
          "points": 1,
          "schema_version": 3,
          "solution": false,
          "task": false
        }
      },
      "outputs": [],
      "source": [
        "import numpy as np\n",
        "assert np.isclose(lagrange([1,2,3], [1,1.4142,1.7321], 1.4), 1.177236)"
      ]
    }
  ],
  "metadata": {
    "colab": {
      "collapsed_sections": [],
      "name": "Ahmad Mongy -120200033 -  Lab6 - Lagrange_Interpolation.ipynb",
      "provenance": []
    },
    "kernelspec": {
      "display_name": "Python 3",
      "language": "python",
      "name": "python3"
    },
    "language_info": {
      "codemirror_mode": {
        "name": "ipython",
        "version": 3
      },
      "file_extension": ".py",
      "mimetype": "text/x-python",
      "name": "python",
      "nbconvert_exporter": "python",
      "pygments_lexer": "ipython3",
      "version": "3.7.1"
    }
  },
  "nbformat": 4,
  "nbformat_minor": 5
}
