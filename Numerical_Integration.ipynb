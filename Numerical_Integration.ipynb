{
  "cells": [
    {
      "cell_type": "markdown",
      "metadata": {
        "id": "SZ1qyF0nxyIE"
      },
      "source": [
        "# Numerical Integration"
      ]
    },
    {
      "cell_type": "markdown",
      "metadata": {
        "id": "X88R0ZPmVHci"
      },
      "source": [
        "**Trapezoid Rule**\n",
        "The Trapezoid Rule fits a trapezoid into each subinterval and sums the areas of the trapezoid to approximate the total integral. For each subinterval, the Trapezoid Rule computes the area of a trapezoid with corners at $(x_i,0),(x_{i+1},0),(x_i,f(x_i)),(x_{i+1},f(x_{i+1}))$ which is $h\\frac{f(x_i)+f(x_{i+1})}{2}$ Thus, the Trapezoid Rule approximates integrals according to the expression\n",
        "\n",
        "$$\n",
        "\\int_a^b f(x) \\;dx =  \\sum_{i=0}^{n-1} h\\frac{f(x_i)+f(x_{i+1})}{2}.\n",
        "$$\n",
        "where $ h = \\frac{b-a}{n-1}$ and n is the number of points chosen between a and b. \n",
        "Increasing n will make the result more accurate.\n"
      ]
    },
    {
      "cell_type": "markdown",
      "metadata": {
        "id": "O9NTKCtCZ018"
      },
      "source": [
        "#### Find the integration of sin(x) from 0 to $\\pi$ using trapezoid rule using n = 11"
      ]
    },
    {
      "cell_type": "code",
      "execution_count": null,
      "metadata": {
        "colab": {
          "base_uri": "https://localhost:8080/"
        },
        "id": "S8fsCkreVWVR",
        "outputId": "280b8649-dd62-44ce-f237-b021e057e320"
      },
      "outputs": [
        {
          "name": "stdout",
          "output_type": "stream",
          "text": [
            "1.9835235375094546\n"
          ]
        }
      ],
      "source": [
        "#write your code here\n",
        "import numpy as np\n",
        "a,b,n= 0 , np.pi, 11\n",
        "X = np.linspace(a,b,n)\n",
        "h = (b-a)/(n-1)\n",
        "f = np.sin\n",
        "rslt= 0\n",
        "xi=X[0]\n",
        "for x in X[1::]:\n",
        "  rslt += h*(f(xi)+f(x))/2\n",
        "  xi = x\n",
        "print(rslt)"
      ]
    },
    {
      "cell_type": "markdown",
      "metadata": {
        "id": "9gzmk2BxbEAS"
      },
      "source": [
        "**Simpson’s Rule**\n",
        "Simpson’s rule methods are more accurate than the other numerical approximations and its formula for n+1 equally spaced subdivision is given by\n",
        "$$\n",
        "\\int_{a}^{b} f(x)\\;dx = \\frac{h}{3}(f(x_{0})+4\\sum_{odd (i)}^{n} f(x_i)+2\\sum_{even (i)}^{n} f(x_i)+f(x_{n}))\n",
        "$$"
      ]
    },
    {
      "cell_type": "markdown",
      "metadata": {
        "id": "AB5OcZCCimj2"
      },
      "source": [
        "#### Find the integration of sin(x) from 0 to $\\pi$ using simpson’s rule using n = 11"
      ]
    },
    {
      "cell_type": "code",
      "execution_count": null,
      "metadata": {
        "colab": {
          "base_uri": "https://localhost:8080/"
        },
        "id": "aRByxFQ7bDLO",
        "outputId": "7f871b84-233f-4f3c-d921-99703099e1b8"
      },
      "outputs": [
        {
          "name": "stdout",
          "output_type": "stream",
          "text": [
            "2.0001095173150043\n"
          ]
        }
      ],
      "source": [
        "#write your code here\n",
        "import numpy as np\n",
        "a,b,n= 0 , np.pi, 11\n",
        "X = np.linspace(a,b,n)\n",
        "h = (b-a)/(n-1)\n",
        "f = np.sin\n",
        "oddsum,evensum = 0,0\n",
        "for i in range(1,n,2):\n",
        "  oddsum += f(X[i])\n",
        "  evensum += f(X[i+1])\n",
        "rslt = (h/3)*(f(X[0])+4*oddsum+2*evensum+f(X[-1]))\n",
        "\n",
        "print(rslt)"
      ]
    }
  ],
  "metadata": {
    "colab": {
      "collapsed_sections": [],
      "name": "Ahmad Mongy - 120200033 -  Lab_11_Numerical_Integration.ipynb",
      "provenance": []
    },
    "kernelspec": {
      "display_name": "Python 3",
      "name": "python3"
    },
    "language_info": {
      "name": "python"
    }
  },
  "nbformat": 4,
  "nbformat_minor": 0
}
