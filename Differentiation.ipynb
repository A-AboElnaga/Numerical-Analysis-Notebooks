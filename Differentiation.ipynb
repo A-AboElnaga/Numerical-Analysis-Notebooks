{
  "cells": [
    {
      "cell_type": "markdown",
      "id": "proof-interpretation",
      "metadata": {
        "id": "proof-interpretation"
      },
      "source": [
        "---"
      ]
    },
    {
      "cell_type": "markdown",
      "id": "grand-excellence",
      "metadata": {
        "deletable": false,
        "editable": false,
        "id": "grand-excellence",
        "nbgrader": {
          "cell_type": "markdown",
          "checksum": "102ad3cc38a1344003a8d4624857e878",
          "grade": false,
          "grade_id": "cell-1fc84fa265289359",
          "locked": true,
          "schema_version": 3,
          "solution": false,
          "task": false
        }
      },
      "source": [
        "# Numerical Analysis\n",
        "# Differentiation"
      ]
    },
    {
      "cell_type": "markdown",
      "id": "random-mainstream",
      "metadata": {
        "id": "random-mainstream"
      },
      "source": [
        "## Remember\n",
        "\n",
        "### Forward Pass Difference Formula\n",
        "\n",
        "Given a function $f(x)$, we want to calculate its derivative $f'(x_0)$ at point $x_0$. For a small step $h$, the derivative can be approximated using the following forward difference formula\n",
        "\n",
        "$$f'(x) = \\frac{f(x_0 + h) - f(x_0)}{h}$$\n",
        "\n",
        "### Three Point Mid-point Formula\n",
        "\n",
        "Given the same conditions as the forward pass difference formula, the three point mid-point formula is as follows:\n",
        "\n",
        "$$f'(x) = \\frac{f(x_0 + h) - f(x_0 - h)}{2h}$$"
      ]
    },
    {
      "cell_type": "markdown",
      "id": "religious-newfoundland",
      "metadata": {
        "deletable": false,
        "editable": false,
        "id": "religious-newfoundland",
        "nbgrader": {
          "cell_type": "markdown",
          "checksum": "e253bd27cfcbcd7af71d959e57ad06a0",
          "grade": false,
          "grade_id": "cell-86a84faa28c49163",
          "locked": true,
          "schema_version": 3,
          "solution": false,
          "task": false
        }
      },
      "source": [
        "#### TO-DO (1)\n",
        "\n",
        "Deﬁne a function `df_approx` that takes in the function `f`, an initial point `x0` and the step size `h` and returns the approximation of the function $f(x)$ at point $x_0$ using the forward pass difference formula"
      ]
    },
    {
      "cell_type": "code",
      "execution_count": null,
      "id": "flush-corpus",
      "metadata": {
        "deletable": false,
        "id": "flush-corpus",
        "nbgrader": {
          "cell_type": "code",
          "checksum": "f4ef24b1745bcb4d6f0d0165b57ca9b0",
          "grade": false,
          "grade_id": "cell-db97c555e129ba01",
          "locked": false,
          "schema_version": 3,
          "solution": true,
          "task": false
        }
      },
      "outputs": [],
      "source": [
        "import numpy as np\n",
        "\n",
        "def df_approx(f, x0, h):\n",
        "    # YOUR CODE HERE\n",
        "    return (f(x0+h)-f(x0))/(h)\n",
        "    raise NotImplementedError()"
      ]
    },
    {
      "cell_type": "code",
      "execution_count": null,
      "id": "sensitive-affair",
      "metadata": {
        "deletable": false,
        "editable": false,
        "id": "sensitive-affair",
        "nbgrader": {
          "cell_type": "code",
          "checksum": "6207e52f745b93b1b2d7b58a6b37b037",
          "grade": true,
          "grade_id": "cell-05aa7e9e5bf73475",
          "locked": true,
          "points": 2,
          "schema_version": 3,
          "solution": false,
          "task": false
        }
      },
      "outputs": [],
      "source": [
        "import math\n",
        "assert np.isclose(df_approx(math.sin, 0, 1e-8), 1.0)\n",
        "assert np.isclose(df_approx(math.cos, 0, 1e-8), 0.0)"
      ]
    },
    {
      "cell_type": "markdown",
      "id": "hungry-hollow",
      "metadata": {
        "deletable": false,
        "editable": false,
        "id": "hungry-hollow",
        "nbgrader": {
          "cell_type": "markdown",
          "checksum": "7101d29665cd7aa6d4ff649cb244119a",
          "grade": false,
          "grade_id": "cell-751b31697bf40662",
          "locked": true,
          "schema_version": 3,
          "solution": false,
          "task": false
        }
      },
      "source": [
        "#### TO-DO (2)\n",
        "\n",
        "Deﬁne a function `df_midpoint_approx` that takes in the function `f`, an initial point `x0` and the step size `h` and returns the approximation of the function $f(x)$ at point $x_0$ using the three point mid-point formula."
      ]
    },
    {
      "cell_type": "code",
      "execution_count": null,
      "id": "fifteen-sunset",
      "metadata": {
        "deletable": false,
        "id": "fifteen-sunset",
        "nbgrader": {
          "cell_type": "code",
          "checksum": "2eb96b88d8ff93591ce566e1e0ba29c6",
          "grade": false,
          "grade_id": "cell-1a2a21e628de402b",
          "locked": false,
          "schema_version": 3,
          "solution": true,
          "task": false
        }
      },
      "outputs": [],
      "source": [
        "import numpy as np\n",
        "\n",
        "def df_midpoint_approx(f, x0, h):\n",
        "    # YOUR CODE HERE\n",
        "    return (f(x0+h)-f(x0-h))/(2*h)\n",
        "    raise NotImplementedError()"
      ]
    },
    {
      "cell_type": "code",
      "execution_count": null,
      "id": "furnished-ballot",
      "metadata": {
        "deletable": false,
        "editable": false,
        "id": "furnished-ballot",
        "nbgrader": {
          "cell_type": "code",
          "checksum": "8b02f973aff5f7ca607e7b409839819a",
          "grade": true,
          "grade_id": "cell-590a3e49a220661b",
          "locked": true,
          "points": 2,
          "schema_version": 3,
          "solution": false,
          "task": false
        }
      },
      "outputs": [],
      "source": [
        "import math\n",
        "assert np.isclose(df_midpoint_approx(math.sin, 0, 1e-8), 1.0)\n",
        "assert np.isclose(df_midpoint_approx(math.cos, 0, 1e-8), 0.0)"
      ]
    },
    {
      "cell_type": "markdown",
      "id": "completed-holmes",
      "metadata": {
        "id": "completed-holmes"
      },
      "source": [
        "For $x=0.7$, and step size $h = 2^i$ with $i$ varying from $0$ to $-30$ with step size 1: \n",
        "\n",
        "* Calculate the approximation of the derivative of the function $f(x) = cos(x)$ using the forward pass difference formula.\n",
        "* Calculate the error and the error ratio for each choice of $h$ where the error is computed as `error = abs(diff. approx - true approx)` and the error ratio is computed as `error[i-1] / error[i]`.\n",
        "* After finishing, print a table with the following three columns: i (where h=2^(-i)) , approximation of f'(x) , Error Ration.\n",
        "\n",
        "You should calculate the approximate derivatives in a list names `approx_deriv` where each element in the list corresponds to the approximate derivative at one value of $h$. **Additionally**, store the error ratio in a list `error_ratios` where each element corresponds to the error ratio compute at a value of $h$.\n",
        "\n",
        "Verify that the error ratios are approximately 2, since $E_h / E_{h/2} \\approx E/(E/2) = 2$\n"
      ]
    },
    {
      "cell_type": "code",
      "execution_count": null,
      "id": "accessory-hello",
      "metadata": {
        "deletable": false,
        "id": "accessory-hello",
        "nbgrader": {
          "cell_type": "code",
          "checksum": "70ecc2961fe78ef9a7fecfa1824b3e6a",
          "grade": false,
          "grade_id": "cell-dec0d54d28bda401",
          "locked": false,
          "schema_version": 3,
          "solution": true,
          "task": false
        }
      },
      "outputs": [],
      "source": [
        "import numpy as np \n",
        "x = 0.7\n",
        "MAX_POWER = 30\n",
        "h = [2**(-i) for i in range(MAX_POWER)]\n",
        "f= np.cos\n",
        "T_value = -np.sin(x)\n",
        "approx_deriv= []\n",
        "error_ratios= []\n",
        "d0 = df_approx(f,x,h[0])\n",
        "approx_deriv.append(d0)\n",
        "for hi in h[1::]:\n",
        "  d = df_approx(f,x,hi)\n",
        "  approx_deriv.append(d)\n",
        "  error0 = abs(d0 - T_value)\n",
        "  error  = abs(d - T_value)\n",
        "  error_r = error0/error\n",
        "  error_ratios.append(error_r)\n",
        "  d0 = d\n",
        "\n",
        "\n",
        "# YOUR CODE HERE\n",
        "#raise NotImplementedError()"
      ]
    },
    {
      "cell_type": "code",
      "execution_count": null,
      "id": "current-alexander",
      "metadata": {
        "deletable": false,
        "editable": false,
        "id": "current-alexander",
        "nbgrader": {
          "cell_type": "code",
          "checksum": "2d14aadc0d4c598f5e9cbfa812b71aeb",
          "grade": true,
          "grade_id": "cell-eefa4aae2600f867",
          "locked": true,
          "points": 4,
          "schema_version": 3,
          "solution": false,
          "task": false
        }
      },
      "outputs": [],
      "source": [
        "assert np.allclose(np.array(approx_deriv), np.array([-0.8936866815800131, -0.8049688656156297, -0.7326363912824196, -0.6902817732851885, -0.6676918955783648, -0.6560625258790012, -0.6501666822936372, -0.647198783534563, -0.6457098794061835, -0.6449641936163175, -0.6445910429116566, -0.6444043906847128, -0.6443110453624286, -0.6442643679001776, -0.6442410279687465, -0.6442293577056262, -0.644223522496759, -0.6442206048814114, -0.6442191460810136, -0.6442184166517109, -0.6442180520389229, -0.6442178697325289, -0.6442177784629166, -0.6442177332937717, -0.64421771094203, -0.6442176997661591, -0.6442176923155785, -0.6442176997661591, -0.6442176997661591, -0.6442177295684814]))\n",
        "assert np.allclose(np.array(error_ratios), np.array([1.5518952760383549, 1.8180675696922572, 1.919471580388214, 1.9623275630421197, 1.9818090437133529, 1.9910654707085305, 1.9955729246949976, 1.9977965035720624, 1.9989007612205443, 1.9994510079290797, 1.9997256607803775, 1.9998628672827814, 1.9999314440828047, 1.9999657412458582, 1.9999824501611332, 1.999991397000223, 1.9999902754200525, 1.9999705761583981, 2.0000209522790238, 1.9994834339616852, 1.9989674013287748, 2.0004865618718357, 1.9807422636904461, 1.9429388371031604, 1.892038105457464, 2.467259894846999, 0.40530792969502405, 1.0, 0.2959658422148293]))"
      ]
    },
    {
      "cell_type": "markdown",
      "id": "proved-footwear",
      "metadata": {
        "id": "proved-footwear"
      },
      "source": [
        "Repeat using the three point mid-point formula."
      ]
    },
    {
      "cell_type": "code",
      "execution_count": null,
      "id": "sixth-punishment",
      "metadata": {
        "colab": {
          "base_uri": "https://localhost:8080/"
        },
        "deletable": false,
        "id": "sixth-punishment",
        "nbgrader": {
          "cell_type": "code",
          "checksum": "32082950c879d3b3655a77bebb1f7bf7",
          "grade": false,
          "grade_id": "cell-19d4a4d37d276fdb",
          "locked": false,
          "schema_version": 3,
          "solution": true,
          "task": false
        },
        "outputId": "2915d94b-2317-4491-9c14-059a6550b444"
      },
      "outputs": [
        {
          "name": "stdout",
          "output_type": "stream",
          "text": [
            "[3.852567805845165, 3.962661493592123, 3.990635109130402, 3.9976568820714045, 3.999414102034443, 3.9998535181303843, 3.9999633814349256, 3.999990854900724, 3.999997768616538, 3.9999999566300595, 3.9999987162501736, 4.000012629362491, 3.9996242076860353, 4.000202061022429, 4.042175649598349, 3.7774199016782504, 3.271769273433167, 10.953827460510327, 0.04782937176730401, 1.1057772636720005, 0.19188132729940688, 1.622751375687844, 1.0, 0.10536291436245686, 0.8259508274083478, 0.21496585143079605, 0.4672598948469992, 2.140136594276816, 0.1893841406099519]\n"
          ]
        }
      ],
      "source": [
        "import numpy as np \n",
        "x = 0.7\n",
        "MAX_POWER = 30\n",
        "h = [2**(-i) for i in range(MAX_POWER)]\n",
        "f= np.cos\n",
        "T_value = -np.sin(x)\n",
        "approx_deriv= []\n",
        "error_ratios= []\n",
        "d0 = df_midpoint_approx(f,x,h[0])\n",
        "approx_deriv.append(d0)\n",
        "for hi in h[1::]:\n",
        "  d = df_midpoint_approx(f,x,hi)\n",
        "  approx_deriv.append(d)\n",
        "  error0 = abs(d0 - T_value)\n",
        "  error  = abs(d - T_value)\n",
        "  error_r = error0/error\n",
        "  error_ratios.append(error_r)\n",
        "  d0 = d\n",
        "print(error_ratios)\n",
        "# YOUR CODE HERE\n",
        "#raise NotImplementedError()"
      ]
    },
    {
      "cell_type": "code",
      "execution_count": null,
      "id": "endangered-vinyl",
      "metadata": {
        "deletable": false,
        "editable": false,
        "id": "endangered-vinyl",
        "nbgrader": {
          "cell_type": "code",
          "checksum": "374b8726e88dac6343aa2bc46b98bb0a",
          "grade": true,
          "grade_id": "cell-9143196205ed5154",
          "locked": true,
          "points": 2,
          "schema_version": 3,
          "solution": false,
          "task": false
        }
      },
      "outputs": [],
      "source": [
        "assert np.allclose(np.array(approx_deriv), np.array([-0.5420904917105653, -0.617708823364568, -0.6375280257775868, -0.6425413471872568, -0.6437983565897927, -0.6441128392181561, -0.6441914742728763, -0.6442111339364942, -0.6442160489086461, -0.6442172776552013, -0.6442175848420106, -0.6442176616387769, -0.6442176808379827, -0.6442176856376136, -0.6442176868367824, -0.6442176871387346, -0.6442176872114942, -0.64421768723696, -0.64421768723696, -0.6442176872224081, -0.644217687251512, -0.6442176873097196, -0.6442176871933043, -0.6442176871933043, -0.6442176876589656, -0.644217686727643, -0.6442176848649979, -0.6442176923155785, -0.6442176848649979, -0.6442176997661591]))\n",
        "assert np.allclose(np.array(error_ratios), np.array([3.852567805845165, 3.962661493592123, 3.990635109130402, 3.9976568820714045, 3.999414102034443, 3.9998535181303843, 3.9999633814349256, 3.999990854900724, 3.999997768616538, 3.9999999566300595, 3.9999987162501736, 4.000012629362491, 3.9996242076860353, 4.000202061022429, 4.042175649598349, 3.7774199016782504, 3.271769273433167, 10.953827460510327, 0.04782937176730401, 1.1057772636720005, 0.19188132729940688, 1.622751375687844, 1.0, 0.10536291436245686, 0.8259508274083478, 0.21496585143079605, 0.4672598948469992, 2.140136594276816, 0.1893841406099519]\n",
        "))"
      ]
    },
    {
      "cell_type": "markdown",
      "id": "intimate-radio",
      "metadata": {
        "id": "intimate-radio"
      },
      "source": [
        "**\\[THE END\\]**"
      ]
    },
    {
      "cell_type": "code",
      "execution_count": null,
      "id": "awMH0__HHiKE",
      "metadata": {
        "id": "awMH0__HHiKE"
      },
      "outputs": [],
      "source": []
    }
  ],
  "metadata": {
    "colab": {
      "collapsed_sections": [],
      "name": "Ahmad Mongy Saad - 120200033 - Lab10-Differentiation.ipynb",
      "provenance": []
    },
    "kernelspec": {
      "display_name": "Python 3",
      "language": "python",
      "name": "python3"
    },
    "language_info": {
      "codemirror_mode": {
        "name": "ipython",
        "version": 3
      },
      "file_extension": ".py",
      "mimetype": "text/x-python",
      "name": "python",
      "nbconvert_exporter": "python",
      "pygments_lexer": "ipython3",
      "version": "3.7.1"
    }
  },
  "nbformat": 4,
  "nbformat_minor": 5
}
