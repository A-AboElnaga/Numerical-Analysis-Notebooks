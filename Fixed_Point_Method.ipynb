{
  "cells": [
    {
      "cell_type": "markdown",
      "id": "competitive-caution",
      "metadata": {
        "id": "competitive-caution"
      },
      "source": [
        "---"
      ]
    },
    {
      "cell_type": "markdown",
      "id": "split-mercy",
      "metadata": {
        "deletable": false,
        "editable": false,
        "id": "split-mercy",
        "nbgrader": {
          "cell_type": "markdown",
          "checksum": "3e4071b1ab7c2d06a55a0aa48cc4fdc0",
          "grade": false,
          "grade_id": "cell-1fc84fa265289359",
          "locked": true,
          "schema_version": 3,
          "solution": false,
          "task": false
        }
      },
      "source": [
        "# Numerical Analysis\n",
        "# Fixed Point Method"
      ]
    },
    {
      "cell_type": "markdown",
      "id": "experienced-dairy",
      "metadata": {
        "deletable": false,
        "editable": false,
        "id": "experienced-dairy",
        "nbgrader": {
          "cell_type": "markdown",
          "checksum": "f3bbf461779f4cff792adad3105e0d74",
          "grade": false,
          "grade_id": "cell-c035df62268b58ca",
          "locked": true,
          "schema_version": 3,
          "solution": false,
          "task": false
        }
      },
      "source": [
        "It is required to solve the equation $e^x - 5x + 2 = 0$ using the **Fixed Point Method** in python. Start with the interval $[2, 3]$ and obtain the solution with an error $\\epsilon$ less than $10^{-5}$ where $|x_n - x_{n-1}| = |g(x_n) - g(x_{n-1})| \\leq \\epsilon$.\n",
        "\n",
        "Pseudocode for Fixed Point Algorithm:\n",
        "\n",
        "```\n",
        "Begin\n",
        "    xn_1 = a\n",
        "    xn = g(xn_1)\n",
        "    while | xn - xn_1 | > epsilon\n",
        "        xn_1 = xn\n",
        "        xn = g(xn_1)\n",
        "End\n",
        "```\n",
        "    "
      ]
    },
    {
      "cell_type": "markdown",
      "id": "joined-peace",
      "metadata": {
        "deletable": false,
        "editable": false,
        "id": "joined-peace",
        "nbgrader": {
          "cell_type": "markdown",
          "checksum": "6114ba51b1af33e9a568dd435acd7b59",
          "grade": false,
          "grade_id": "cell-16c3e0d252598736",
          "locked": true,
          "schema_version": 3,
          "solution": false,
          "task": false
        }
      },
      "source": [
        "**Three possible arragements for the equation, which are:**\n",
        "\n",
        "$$x = \\frac{e^x + 2}{5}$$\n",
        "\n",
        "$$x = e^x - 4x + 2$$ and\n",
        "\n",
        "$$x = ln(5x - 2)$$"
      ]
    },
    {
      "cell_type": "markdown",
      "id": "finished-indicator",
      "metadata": {
        "deletable": false,
        "editable": false,
        "id": "finished-indicator",
        "nbgrader": {
          "cell_type": "markdown",
          "checksum": "77070e4b72f44a31b30324d9b178c6d9",
          "grade": false,
          "grade_id": "cell-86a84faa28c49163",
          "locked": true,
          "schema_version": 3,
          "solution": false,
          "task": false
        }
      },
      "source": [
        "#### TO-DO (1)\n",
        "\n",
        "Deﬁne a function `eq1` for the third rearrangement:"
      ]
    },
    {
      "cell_type": "code",
      "execution_count": null,
      "id": "expired-imaging",
      "metadata": {
        "deletable": false,
        "id": "expired-imaging",
        "nbgrader": {
          "cell_type": "code",
          "checksum": "00581d431d3e9667336d07da2014eeec",
          "grade": false,
          "grade_id": "cell-db97c555e129ba01",
          "locked": false,
          "schema_version": 3,
          "solution": true,
          "task": false
        }
      },
      "outputs": [],
      "source": [
        "import numpy as np\n",
        "def eq1(x):\n",
        "    # YOUR CODE HERE\n",
        "    return (np.log(5*x-2))\n",
        "    raise NotImplementedError()"
      ]
    },
    {
      "cell_type": "code",
      "execution_count": null,
      "id": "senior-briefs",
      "metadata": {
        "deletable": false,
        "editable": false,
        "id": "senior-briefs",
        "nbgrader": {
          "cell_type": "code",
          "checksum": "c063f27bc5e1ff0545952ae638c61034",
          "grade": true,
          "grade_id": "cell-731c6a3f26924bdb",
          "locked": true,
          "points": 2,
          "schema_version": 3,
          "solution": false,
          "task": false
        }
      },
      "outputs": [],
      "source": [
        "assert np.all(np.isclose(eq1(np.array(range(1, 10))), np.array([1.09861229, 2.07944154, 2.56494936, 2.89037176, 3.13549422,\n",
        "       3.33220451, 3.49650756, 3.63758616, 3.76120012])))"
      ]
    },
    {
      "cell_type": "markdown",
      "id": "sealed-fisher",
      "metadata": {
        "deletable": false,
        "editable": false,
        "id": "sealed-fisher",
        "nbgrader": {
          "cell_type": "markdown",
          "checksum": "05a13e18ffc3a0905928f3cea82de648",
          "grade": false,
          "grade_id": "cell-751b31697bf40662",
          "locked": true,
          "schema_version": 3,
          "solution": false,
          "task": false
        }
      },
      "source": [
        "#### TO-DO (2)\n",
        "\n",
        "Defien a function `fixedPoint` that implements the fixed point method algorithm. The function takes as arguments the function `func`, the interval `a` and `b`, and the `tolerance`. The function should return the solution when $|x_n - x_{n-1}| \\leq \\epsilon$."
      ]
    },
    {
      "cell_type": "code",
      "execution_count": null,
      "id": "institutional-cooling",
      "metadata": {
        "deletable": false,
        "id": "institutional-cooling",
        "nbgrader": {
          "cell_type": "code",
          "checksum": "0f9891486036e2ddf624d45b5759940e",
          "grade": false,
          "grade_id": "cell-1a2a21e628de402b",
          "locked": false,
          "schema_version": 3,
          "solution": true,
          "task": false
        }
      },
      "outputs": [],
      "source": [
        "def fixedPoint(func, a, b, tolerance):\n",
        "    # YOUR CODE HERE\n",
        "    g_x = func\n",
        "    xn_1 = a\n",
        "    xn = g_x(xn_1)\n",
        "    while abs(xn - xn_1) > tolerance:\n",
        "      xn_1 = xn\n",
        "      xn = g_x(xn_1)\n",
        "    return xn\n",
        "    raise NotImplementedError()"
      ]
    },
    {
      "cell_type": "code",
      "execution_count": null,
      "id": "healthy-infrared",
      "metadata": {
        "deletable": false,
        "editable": false,
        "id": "healthy-infrared",
        "nbgrader": {
          "cell_type": "code",
          "checksum": "6f7eab16a52a32268869736f3ff3ab55",
          "grade": true,
          "grade_id": "cell-590a3e49a220661b",
          "locked": true,
          "points": 3,
          "schema_version": 3,
          "solution": false,
          "task": false
        }
      },
      "outputs": [],
      "source": [
        "assert np.isclose(fixedPoint(eq1, 2, 3, 1e-5), 2.1937309384071364)"
      ]
    },
    {
      "cell_type": "markdown",
      "id": "valuable-intention",
      "metadata": {
        "deletable": false,
        "editable": false,
        "id": "valuable-intention",
        "nbgrader": {
          "cell_type": "markdown",
          "checksum": "10688ae549b59417926e0de412ce1c04",
          "grade": false,
          "grade_id": "cell-c8dd7cca354a88a3",
          "locked": true,
          "schema_version": 3,
          "solution": false,
          "task": false
        }
      },
      "source": [
        "### TO-DO (3)\n",
        "\n",
        "Plot the two functions $y = x$ and $y = \\frac{e^x + 2}{5}$ and verify that they intersect each other at the obtained root."
      ]
    },
    {
      "cell_type": "code",
      "execution_count": null,
      "id": "published-principal",
      "metadata": {
        "deletable": false,
        "id": "published-principal",
        "nbgrader": {
          "cell_type": "code",
          "checksum": "bcd1d1b6f123d6bb0b2b0b6421c39f2f",
          "grade": false,
          "grade_id": "cell-8d6cf4871444cf1f",
          "locked": false,
          "schema_version": 3,
          "solution": true,
          "task": false
        }
      },
      "outputs": [],
      "source": [
        "import numpy as np\n",
        "import matplotlib.pyplot as plt\n",
        "\n",
        "def plotFunctions():\n",
        "    # YOUR CODE HERE\n",
        "    plt.figure(figsize=(6.4*3,4.8*3),facecolor=[0.91,0.91,0.91])\n",
        "    x= np.linspace(0,3,101)\n",
        "    plt.xticks(np.arange(min(x), max(x), 0.08))\n",
        "    y1 =x \n",
        "    y2 =(np.exp(x)+2) /5\n",
        "    plt.plot(x,y1)\n",
        "    plt.plot(x,y2)\n",
        "    plt.ylabel('Y Values')\n",
        "    return  plt.show()\n",
        "    raise NotImplementedError()"
      ]
    },
    {
      "cell_type": "code",
      "execution_count": null,
      "id": "residential-anthropology",
      "metadata": {
        "colab": {
          "base_uri": "https://localhost:8080/",
          "height": 831
        },
        "deletable": false,
        "editable": false,
        "id": "residential-anthropology",
        "nbgrader": {
          "cell_type": "code",
          "checksum": "c4f06ace5cb8f4b484da7a09bef69161",
          "grade": true,
          "grade_id": "cell-6f5fbdcde1fba4db",
          "locked": true,
          "points": 2,
          "schema_version": 3,
          "solution": false,
          "task": false
        },
        "outputId": "ad2c1bff-89c5-42da-d548-c634e4ed14f6"
      },
      "outputs": [
        {
          "data": {
            "image/png": "[encoded data removed]",
            "text/plain": [
              "<Figure size 1382.4x1036.8 with 1 Axes>"
            ]
          },
          "metadata": {},
          "output_type": "display_data"
        }
      ],
      "source": [
        "plotFunctions()"
      ]
    },
    {
      "cell_type": "markdown",
      "id": "disciplinary-cinema",
      "metadata": {
        "deletable": false,
        "editable": false,
        "id": "disciplinary-cinema",
        "nbgrader": {
          "cell_type": "markdown",
          "checksum": "972dbed487841242f2b03dac6ab75c18",
          "grade": false,
          "grade_id": "cell-a41256e3897e3d5b",
          "locked": true,
          "schema_version": 3,
          "solution": false,
          "task": false
        }
      },
      "source": [
        "#### TO-DO (4)\n",
        "\n",
        "Using proper formatting, change the function `fixedPont` to print the results in the form of a table as follows:\n",
        "\n",
        "```\n",
        "+----+--------------------+--------------------+------------------------+\n",
        "| n  |        xn_1        |    xn = g(xn_1)    |     abs(xn - xn_1)     |\n",
        "+----+--------------------+--------------------+------------------------+\n",
        "| 1  | 2.0794415416798357 | 2.127899234920169  |  0.04845769324033311   |\n",
        "| 2  | 2.127899234920169  | 2.1563442679907854 |  0.02844503307061652   |\n",
        "| 3  | 2.1563442679907854 | 2.1726724408178195 |  0.016328172827034138  |\n",
        "| 4  | 2.1726724408178195 | 2.181926173906346  |  0.009253733088526506  |\n",
        "```"
      ]
    },
    {
      "cell_type": "code",
      "execution_count": null,
      "id": "aquatic-timing",
      "metadata": {
        "deletable": false,
        "id": "aquatic-timing",
        "nbgrader": {
          "cell_type": "code",
          "checksum": "dfd2c99dd4cce8ef53495bfaafc1f842",
          "grade": false,
          "grade_id": "cell-14f505e9b940e351",
          "locked": false,
          "schema_version": 3,
          "solution": true,
          "task": false
        }
      },
      "outputs": [],
      "source": [
        "import prettytable\n",
        "def fixedPoint(func, a, b, tolerance):\n",
        "    table = prettytable.PrettyTable()\n",
        "    table.field_names = ['n', 'xn_1', 'xn = g(xn_1)', 'abs(xn - xn_1)']\n",
        "    # YOUR CODE HERE\n",
        "    g_x = func\n",
        "    xn_1 = a\n",
        "    xn = g_x(xn_1)\n",
        "    n =0\n",
        "    while abs(xn - xn_1) > tolerance and n <25:\n",
        "      n+=1\n",
        "      xn_1 = xn\n",
        "      xn = g_x(xn_1)\n",
        "      table.add_row([n,xn_1, xn,  abs(xn - xn_1)])\n",
        "    print(table)\n",
        "    return xn\n",
        "    raise NotImplementedError()"
      ]
    },
    {
      "cell_type": "code",
      "execution_count": null,
      "id": "studied-hotel",
      "metadata": {
        "colab": {
          "base_uri": "https://localhost:8080/"
        },
        "deletable": false,
        "editable": false,
        "id": "studied-hotel",
        "nbgrader": {
          "cell_type": "code",
          "checksum": "cba6da33931cfc8d2079038dcb64a0fc",
          "grade": true,
          "grade_id": "cell-e1e007d3f7c9885a",
          "locked": true,
          "points": 1,
          "schema_version": 3,
          "solution": false,
          "task": false
        },
        "outputId": "780a7e4d-795e-493a-b443-d34244ec17be"
      },
      "outputs": [
        {
          "name": "stdout",
          "output_type": "stream",
          "text": [
            "+----+--------------------+--------------------+------------------------+\n",
            "| n  |        xn_1        |    xn = g(xn_1)    |     abs(xn - xn_1)     |\n",
            "+----+--------------------+--------------------+------------------------+\n",
            "| 1  | 2.0794415416798357 | 2.127899234920169  |  0.04845769324033311   |\n",
            "| 2  | 2.127899234920169  | 2.1563442679907854 |  0.02844503307061652   |\n",
            "| 3  | 2.1563442679907854 | 2.1726724408178195 |  0.016328172827034138  |\n",
            "| 4  | 2.1726724408178195 | 2.181926173906346  |  0.009253733088526506  |\n",
            "| 5  | 2.181926173906346  | 2.1871328118402045 |  0.005206637933858449  |\n",
            "| 6  | 2.1871328118402045 | 2.1900504669690224 | 0.0029176551288179198  |\n",
            "| 7  | 2.1900504669690224 | 2.191681725726768  | 0.0016312587577456128  |\n",
            "| 8  | 2.191681725726768  | 2.1925926028011955 | 0.0009108770744274963  |\n",
            "| 9  | 2.1925926028011955 | 2.193100865847239  | 0.0005082630460435666  |\n",
            "| 10 | 2.193100865847239  | 2.193384360827438  | 0.0002834949801990838  |\n",
            "| 11 | 2.193384360827438  | 2.193542451527872  | 0.00015809070043371065 |\n",
            "| 12 | 2.193542451527872  | 2.193630599800087  | 8.814827221526045e-05  |\n",
            "| 13 | 2.193630599800087  | 2.1936797461729953 | 4.914637290820423e-05  |\n",
            "| 14 | 2.1936797461729953 | 2.193707146296303  | 2.7400123307597113e-05 |\n",
            "| 15 | 2.193707146296303  | 2.1937224221079896 | 1.5275811686699114e-05 |\n",
            "| 16 | 2.1937224221079896 | 2.1937309384071364 | 8.516299146776873e-06  |\n",
            "+----+--------------------+--------------------+------------------------+\n"
          ]
        }
      ],
      "source": [
        "assert np.isclose(fixedPoint(eq1, 2, 3, 1e-5), 2.1937309384071364)"
      ]
    },
    {
      "cell_type": "markdown",
      "id": "configured-composer",
      "metadata": {
        "deletable": false,
        "editable": false,
        "id": "configured-composer",
        "nbgrader": {
          "cell_type": "markdown",
          "checksum": "4d2b38d85483a1e6dd7b0f06a0b4b7d3",
          "grade": false,
          "grade_id": "cell-978a105c6e13fb33",
          "locked": true,
          "schema_version": 3,
          "solution": false,
          "task": false
        }
      },
      "source": [
        "#### TO-DO (5)\n",
        "\n",
        "Check whether the other two arrangements converge? Give reasons for your findings."
      ]
    },
    {
      "cell_type": "code",
      "execution_count": null,
      "id": "descending-cable",
      "metadata": {
        "deletable": false,
        "id": "descending-cable",
        "nbgrader": {
          "cell_type": "code",
          "checksum": "a5b67dbf833c3e2797b2fa94b795bec2",
          "grade": false,
          "grade_id": "cell-6bcbf9ddefdb54b8",
          "locked": false,
          "schema_version": 3,
          "solution": true,
          "task": false
        }
      },
      "outputs": [],
      "source": [
        "def eq2(x):\n",
        "    # YOUR CODE HERE\n",
        "    return ((np.exp(x) +2) /5)\n",
        "    raise NotImplementedError()\n",
        "\n",
        "def eq3(x):\n",
        "    # YOUR CODE HERE\n",
        "    return np.exp(x) - 4*x+2\n",
        "    raise NotImplementedError()"
      ]
    },
    {
      "cell_type": "code",
      "execution_count": null,
      "id": "becoming-tracker",
      "metadata": {
        "colab": {
          "base_uri": "https://localhost:8080/"
        },
        "id": "becoming-tracker",
        "outputId": "d3e43fde-72e3-4213-a1b7-f5c61b12762e"
      },
      "outputs": [
        {
          "name": "stdout",
          "output_type": "stream",
          "text": [
            "+----+--------------------+--------------------+------------------------+\n",
            "| n  |        xn_1        |    xn = g(xn_1)    |     abs(xn - xn_1)     |\n",
            "+----+--------------------+--------------------+------------------------+\n",
            "| 1  |  1.87781121978613  | 1.7078352734201843 |  0.16997594636594582   |\n",
            "| 2  | 1.7078352734201843 | 1.503401146576517  |  0.20443412684366735   |\n",
            "| 3  | 1.503401146576517  | 1.2993915805652871 |  0.20400956601122977   |\n",
            "| 4  | 1.2993915805652871 | 1.133412975043344  |   0.1659786055219432   |\n",
            "| 5  | 1.133412975043344  | 1.0212479897504143 |  0.11216498529292962   |\n",
            "| 6  | 1.0212479897504143 | 0.9553315686199577 |  0.06591642113045659   |\n",
            "| 7  | 0.9553315686199577 | 0.9199064726800424 |  0.035425095939915274  |\n",
            "| 8  | 0.9199064726800424 | 0.9018111427411245 |  0.018095329938917937  |\n",
            "| 9  | 0.9018111427411245 | 0.8928123679912222 |  0.008998774749902294  |\n",
            "| 10 | 0.8928123679912222 | 0.888397554246767  |  0.004414813744455182  |\n",
            "| 11 | 0.888397554246767  | 0.8862461225909289 | 0.0021514316558380875  |\n",
            "| 12 | 0.8862461225909289 | 0.8852011218172098 | 0.0010450007737191624  |\n",
            "| 13 | 0.8852011218172098 | 0.8846943511035128 | 0.0005067707136969801  |\n",
            "| 14 | 0.8846943511035128 | 0.8844487844295339 | 0.0002455666739789031  |\n",
            "| 15 | 0.8844487844295339 | 0.8843298345584882 | 0.00011894987104565935 |\n",
            "| 16 | 0.8843298345584882 | 0.8842722270133969 | 5.760754509132049e-05  |\n",
            "| 17 | 0.8842722270133969 | 0.8842443300827874 | 2.789693060956111e-05  |\n",
            "| 18 | 0.8842443300827874 | 0.8842308213407399 | 1.350874204741892e-05  |\n",
            "| 19 | 0.8842308213407399 | 0.8842242800356657 | 6.541305074270198e-06  |\n",
            "+----+--------------------+--------------------+------------------------+\n"
          ]
        },
        {
          "data": {
            "text/plain": [
              "0.8842242800356657"
            ]
          },
          "execution_count": 82,
          "metadata": {},
          "output_type": "execute_result"
        }
      ],
      "source": [
        "# Check the second equation\n",
        "fixedPoint(eq2, 2, 3, 1e-5)\n"
      ]
    },
    {
      "cell_type": "code",
      "execution_count": null,
      "id": "FqY-Z3SST_j1",
      "metadata": {
        "colab": {
          "base_uri": "https://localhost:8080/"
        },
        "id": "FqY-Z3SST_j1",
        "outputId": "9ea6589e-7b1e-4794-8349-87c0c3451361"
      },
      "outputs": [
        {
          "name": "stdout",
          "output_type": "stream",
          "text": [
            "+----+---------------------+---------------------+---------------------+\n",
            "| n  |         xn_1        |     xn = g(xn_1)    |    abs(xn - xn_1)   |\n",
            "+----+---------------------+---------------------+---------------------+\n",
            "| 1  |  1.3890560989306504 | 0.45483782396448547 |  0.9342182749661649 |\n",
            "| 2  | 0.45483782396448547 |  1.7565664903519054 |   1.30172866638742  |\n",
            "| 3  |  1.7565664903519054 |  0.7662485953225273 |  0.9903178950293781 |\n",
            "| 4  |  0.7662485953225273 |  1.0866848935175177 |  0.3204362981949904 |\n",
            "| 5  |  1.0866848935175177 |  0.6176907887225367 | 0.46899410479498105 |\n",
            "| 6  |  0.6176907887225367 |  1.3838771818717719 |  0.7661863931492352 |\n",
            "| 7  |  1.3838771818717719 | 0.45483423162183456 |  0.9290429502499373 |\n",
            "| 8  | 0.45483423162183456 |  1.7565751984959999 |  1.3017409668741653 |\n",
            "| 9  |  1.7565751984959999 |  0.7662642050172082 |  0.9903109934787917 |\n",
            "| 10 |  0.7662642050172082 |  1.0866560420574682 |  0.3203918370402601 |\n",
            "| 11 |  1.0866560420574682 |  0.617720667652347  | 0.46893537440512123 |\n",
            "| 12 |  0.617720667652347  |  1.3838130816488499 |  0.7660924139965029 |\n",
            "| 13 |  1.3838130816488499 |  0.4548348588379709 |  0.9289782228108789 |\n",
            "| 14 |  0.4548348588379709 |  1.7565736780692787 |  1.3017388192313077 |\n",
            "| 15 |  1.7565736780692787 |  0.7662614795601792 |  0.9903121985090995 |\n",
            "| 16 |  0.7662614795601792 |  1.0866610794926315 | 0.32039959993245226 |\n",
            "| 17 |  1.0866610794926315 |  0.617715450644218  |  0.4689456288484135 |\n",
            "| 18 |  0.617715450644218  |  1.3838242737437894 |  0.7661088230995714 |\n",
            "| 19 |  1.3838242737437894 |  0.4548347481427153 |  0.9289895256010741 |\n",
            "| 20 |  0.4548347481427153 |  1.7565739464042058 |  1.3017391982614905 |\n",
            "| 21 |  1.7565739464042058 |  0.7662619605658234 |  0.9903119858383824 |\n",
            "| 22 |  0.7662619605658234 |  1.086660190453514  |  0.3203982298876906 |\n",
            "| 23 |  1.086660190453514  |  0.6177163713700664 |  0.4689438190834476 |\n",
            "| 24 |  0.6177163713700664 |  1.383822298498593  |  0.7661059271285267 |\n",
            "| 25 |  1.383822298498593  |  0.4548347676425286 |  0.9289875308560644 |\n",
            "+----+---------------------+---------------------+---------------------+\n"
          ]
        },
        {
          "data": {
            "text/plain": [
              "0.4548347676425286"
            ]
          },
          "execution_count": 83,
          "metadata": {},
          "output_type": "execute_result"
        }
      ],
      "source": [
        "\n",
        "# Check the third equation\n",
        "fixedPoint(eq3, 2, 3, 1e-5)"
      ]
    },
    {
      "cell_type": "markdown",
      "id": "tight-finding",
      "metadata": {
        "deletable": false,
        "id": "tight-finding",
        "nbgrader": {
          "cell_type": "markdown",
          "checksum": "348eb69c40a375dd9f0220d7aeed988f",
          "grade": true,
          "grade_id": "cell-edbb6c1cd55cda40",
          "locked": false,
          "points": 2,
          "schema_version": 3,
          "solution": true,
          "task": false
        }
      },
      "source": [
        "**YOUR ANSWER HERE**"
      ]
    },
    {
      "cell_type": "markdown",
      "id": "FMun5leaTsGO",
      "metadata": {
        "id": "FMun5leaTsGO"
      },
      "source": [
        "Equation 2 converges as the absloute error is strictly non increasing, and also can be observed in the values of x as it approches a difinte value \n",
        "\n",
        "Equation 3 diverges  as the absloute error is  not strictly non increasing, and also can be observed in the values of x as it does not approches a difinte value \n"
      ]
    }
  ],
  "metadata": {
    "colab": {
      "name": "Lab4 - Fixed Point Method - Ahmad Mongy Saad - 120200033.ipynb",
      "provenance": []
    },
    "kernelspec": {
      "display_name": "Python 3",
      "language": "python",
      "name": "python3"
    },
    "language_info": {
      "codemirror_mode": {
        "name": "ipython",
        "version": 3
      },
      "file_extension": ".py",
      "mimetype": "text/x-python",
      "name": "python",
      "nbconvert_exporter": "python",
      "pygments_lexer": "ipython3",
      "version": "3.7.1"
    }
  },
  "nbformat": 4,
  "nbformat_minor": 5
}
